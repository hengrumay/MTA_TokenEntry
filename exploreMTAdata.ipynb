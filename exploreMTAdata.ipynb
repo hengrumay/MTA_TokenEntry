{
 "cells": [
  {
   "cell_type": "markdown",
   "metadata": {
    "collapsed": false
   },
   "source": [
    "\n",
    "\"\"\"\n",
    "Created on Mon Sep 19 16:57:47 2016 | modified & converted to notebook\n",
    "\n",
    "@author: hrm\n",
    "\n",
    "Exploring MTA Turnstile Data\n",
    "\n",
    "%% Refs\n",
    "http://web.mta.info/developers/turnstile.html\n",
    "https://data.ny.gov/Transportation/NYC-Transit-Subway-Entrance-And-Exit-Data/i9wp-a4ja/data\n",
    "https://spatialityblog.com/2010/07/08/mta-gis-data-update/\n",
    "\n",
    "\n",
    "%% Pandas\n",
    "http://pythonhow.com/accessing-dataframe-columns-rows-and-cells\n",
    "\n",
    "\"\"\"\n"
   ]
  },
  {
   "cell_type": "code",
   "execution_count": 219,
   "metadata": {
    "collapsed": false
   },
   "outputs": [],
   "source": [
    "import matplotlib.pyplot as plt\n",
    "%matplotlib inline"
   ]
  },
  {
   "cell_type": "code",
   "execution_count": null,
   "metadata": {
    "collapsed": false
   },
   "outputs": [],
   "source": [
    "## Make into Function -- load list of url data\n",
    "# urlList = [\"http://web.mta.info/developers/data/nyct/turnstile/turnstile_160604.txt\",\n",
    "#            \"http://web.mta.info/developers/data/nyct/turnstile/turnstile_160528.txt\",\n",
    "#            \"http://web.mta.info/developers/data/nyct/turnstile/turnstile_160521.txt\",\n",
    "#            \"http://web.mta.info/developers/data/nyct/turnstile/turnstile_160514.txt\",\n",
    "#            \"http://web.mta.info/developers/data/nyct/turnstile/turnstile_160507.txt\",\n",
    "#            \"http://web.mta.info/developers/data/nyct/turnstile/turnstile_160430.txt\",\n",
    "#            \"http://web.mta.info/developers/data/nyct/turnstile/turnstile_160423.txt\",\n",
    "#            \"http://web.mta.info/developers/data/nyct/turnstile/turnstile_160409.txt\",\n",
    "#            \"http://web.mta.info/developers/data/nyct/turnstile/turnstile_160402.txt\"]\n",
    "\n",
    "#len(urlList)=9\n",
    "\n",
    "# import pandas as pd\n",
    "# #http://pandas.pydata.org/pandas-docs/stable/merging.html\n",
    "\n",
    "# cnt=0\n",
    "# for u in urlList:\n",
    "#     Dtmp = pd.read_csv(u)\n",
    "#     if cnt==0:\n",
    "#         Dmat = Dtmp\n",
    "#     else:\n",
    "#         Dmat = pd.concat([Dmat, Dtmp])\n",
    "#     cnt += 1\n",
    "\n",
    "# del Dtmp\n",
    "\n",
    "# D= Dmat"
   ]
  },
  {
   "cell_type": "code",
   "execution_count": 2,
   "metadata": {
    "collapsed": true
   },
   "outputs": [],
   "source": [
    "import pandas as pd\n",
    "\n",
    "#url = \"http://web.mta.info/developers/data/nyct/turnstile/turnstile_160402.txt\"\n",
    "url = \"http://web.mta.info/developers/data/nyct/turnstile/turnstile_160409.txt\"\n",
    "D = pd.read_csv(url,na_values=['.', 0])\n",
    "#print(D)\n",
    "#D.head\n",
    "\n",
    "#D.columns\n",
    "#Index(['C/A', 'UNIT', 'SCP', 'STATION', 'LINENAME', 'DIVISION', 'DATE', 'TIME','DESC', 'ENTRIES','EXITS'], dtype='object')"
   ]
  },
  {
   "cell_type": "code",
   "execution_count": null,
   "metadata": {
    "collapsed": false
   },
   "outputs": [],
   "source": [
    "\n"
   ]
  },
  {
   "cell_type": "code",
   "execution_count": 197,
   "metadata": {
    "collapsed": true
   },
   "outputs": [],
   "source": [
    "import dateutil.parser as DUparser\n",
    "from collections import defaultdict\n",
    "\n",
    "Ddict = defaultdict(list)\n",
    "for row in D.values:\n",
    "    ca = row[0]\n",
    "    unit = row[1]\n",
    "    scp = row[2]\n",
    "    station = row[3]\n",
    "    linename = row[4]\n",
    "    division = row[5]\n",
    "    date = row[6]\n",
    "    #date_wday = DUparser.parse(date).weekday()\n",
    "    time = row[7]\n",
    "    desc = row[8]\n",
    "    entries = row[9]\n",
    "    exits = row[10]\n",
    "\n",
    "##    Ddict[(ca, unit, scp, station)].append([DUparser.parse(date + \" \" + time), date_wday, int(entries) ]) #,  int(exits)])\n",
    "\n",
    "#     Ddict[(ca, unit, scp, station)].append([DUparser.parse(date + \" \" + time), int(entries) ]) #,  int(exits)])\n",
    "\n",
    "    Ddict[(ca, unit, scp, station, linename)].append([DUparser.parse(date + \" \" + time), int(entries) ])\n",
    "\n"
   ]
  },
  {
   "cell_type": "code",
   "execution_count": null,
   "metadata": {
    "collapsed": true
   },
   "outputs": [],
   "source": [
    "#==============================================================================\n",
    "# some time interval [0,4,8,12,16,20,(0)]+1 discrepancies over daylight savings but also sampling times.\n",
    "# however, if we take day differences in the list of commuter vol/flow count data, this might not be an issue -- day+1[0] - day[0] || or Count_8/9pm - Count_4/8am? || TimeInt[5or-1] - TimeInt[1]\n",
    "\n",
    "#https://pymotw.com/3/datetime/\n",
    "\n",
    "#http://travel.mtanyct.info/serviceadvisory/\n",
    "\n",
    "#=============================================================================="
   ]
  },
  {
   "cell_type": "code",
   "execution_count": 198,
   "metadata": {
    "collapsed": false
   },
   "outputs": [],
   "source": [
    "## Count Passenger Vol by Station-Unit_SCP\n",
    "import numpy as np\n",
    "\n",
    "Sdict = defaultdict(list)\n",
    "\n",
    "for key in Ddict:\n",
    "# new dict with station identifier as key and all entry/exit counts as list of values\n",
    "    tmpHdict = defaultdict(list)\n",
    "\n",
    "    for tf in Ddict[key]:\n",
    "        DateTime= tf[0]\n",
    "        #wday = tf[1]\n",
    "        volume = tf[1]\n",
    "\n",
    "        tmpHdict[DateTime.date()].append(volume)\n",
    "#        break\n",
    "#        print(tmpTdict)\n",
    "\n",
    "        ## get difference between relevant highest(latest | 8/9pm) & lowest (earliest | 4/5am) index of count of the day\n",
    "    tmpCdict = defaultdict(list)\n",
    "    for date in tmpHdict.keys():\n",
    "#        print (date)\n",
    "        #count = max(tmpTdict[date]) - min(tmpTdict[date])\n",
    "        if (len(tmpHdict[date])>=2):\n",
    "            count = tmpHdict[date][len(tmpHdict[date])-1] - tmpHdict[date][1]            \n",
    "        else:\n",
    "            count = [0]\n",
    "\n",
    "        # tmpCdict[date].append([date.weekday(),count])\n",
    "        tmpCdict[date.weekday()].append(count)\n",
    "        \n",
    "    if np.all(np.array(list(tmpCdict.values()))>0)==True:\n",
    "        #Sdict[key]= tmpCdict\n",
    "        if np.all(np.array(list(tmpCdict.values()))<6000000)==True:  # reasonable counts per week \n",
    "            Sdict[key]= tmpCdict\n",
    "\n",
    "#Sdict"
   ]
  },
  {
   "cell_type": "code",
   "execution_count": 164,
   "metadata": {
    "collapsed": false
   },
   "outputs": [],
   "source": [
    "# 5000*16 #*7 #560000"
   ]
  },
  {
   "cell_type": "code",
   "execution_count": 217,
   "metadata": {
    "collapsed": false
   },
   "outputs": [],
   "source": [
    "# Sdict"
   ]
  },
  {
   "cell_type": "code",
   "execution_count": null,
   "metadata": {
    "collapsed": false
   },
   "outputs": [],
   "source": [
    "# list(Sdict.values())[0]"
   ]
  },
  {
   "cell_type": "code",
   "execution_count": 163,
   "metadata": {
    "collapsed": false
   },
   "outputs": [],
   "source": [
    "# import numpy as np\n",
    "# test=np.array(list(list(Sdict.values())[0].values()))\n",
    "# test\n",
    "# np.all(test>0)"
   ]
  },
  {
   "cell_type": "code",
   "execution_count": 207,
   "metadata": {
    "collapsed": false
   },
   "outputs": [],
   "source": [
    "## Cluster Count Passenger Vol by Station\n",
    "\n",
    "#DC = {(keys[0],keys[1],keys[3]): values for keys, values in Sdict.items() }\n",
    "\n",
    "\n",
    "#pd.DataFrame(Sdict[list(Sdict.keys())[0]])\n",
    "#pd.DataFrame(Sdict[list(Sdict.keys())[1]])\n",
    "#pd.concat([])\n",
    "\n",
    "SNdict0 = defaultdict(list)\n",
    "SNdict = defaultdict(list)\n",
    "\n",
    "for key in Sdict:\n",
    "# new dict with stationName (+2other) identifier as key and all entry/exit counts as list of values\n",
    "#    print key\n",
    "#    print\n",
    "    #SNdict0[key[0],key[1],key[3]].append( pd.DataFrame(Sdict[key]) )\n",
    "    SNdict0[key[3],key[4]].append( pd.DataFrame(Sdict[key]) )\n",
    "    SNdict[key[3]].append( pd.DataFrame(Sdict[key]) )\n"
   ]
  },
  {
   "cell_type": "code",
   "execution_count": 138,
   "metadata": {
    "collapsed": false
   },
   "outputs": [],
   "source": [
    "# pd.concat(SNdict[list(SNdict.keys())[0]])"
   ]
  },
  {
   "cell_type": "code",
   "execution_count": 83,
   "metadata": {
    "collapsed": false
   },
   "outputs": [
    {
     "data": {
      "text/plain": [
       "39566"
      ]
     },
     "execution_count": 83,
     "metadata": {},
     "output_type": "execute_result"
    }
   ],
   "source": [
    "# np.sum(list(pd.concat(SNdict[list(SNdict.keys())[0]]).sum()))\n"
   ]
  },
  {
   "cell_type": "code",
   "execution_count": 208,
   "metadata": {
    "collapsed": false
   },
   "outputs": [],
   "source": [
    "StatFlowDict = defaultdict(list)\n",
    "\n",
    "for key in SNdict:\n",
    "    StatFlowDict[key] =  np.sum(list(pd.concat(SNdict[key]).sum())) \n",
    "\n",
    "StatFlowDict0 = defaultdict(list)    \n",
    "for key in SNdict0:    \n",
    "    StatFlowDict0[key] =  np.sum(list(pd.concat(SNdict0[key]).sum())) \n"
   ]
  },
  {
   "cell_type": "code",
   "execution_count": 154,
   "metadata": {
    "collapsed": false
   },
   "outputs": [],
   "source": [
    "# StatFlowDict"
   ]
  },
  {
   "cell_type": "code",
   "execution_count": 215,
   "metadata": {
    "collapsed": false,
    "scrolled": true
   },
   "outputs": [],
   "source": [
    "# StatFlowDF.plot()"
   ]
  },
  {
   "cell_type": "code",
   "execution_count": 250,
   "metadata": {
    "collapsed": true
   },
   "outputs": [],
   "source": [
    "StatFlowDF = pd.DataFrame(list(StatFlowDict.items()))"
   ]
  },
  {
   "cell_type": "code",
   "execution_count": 249,
   "metadata": {
    "collapsed": false
   },
   "outputs": [
    {
     "data": {
      "text/html": [
       "<div>\n",
       "<table border=\"1\" class=\"dataframe\">\n",
       "  <thead>\n",
       "    <tr style=\"text-align: right;\">\n",
       "      <th></th>\n",
       "      <th>0</th>\n",
       "      <th>1</th>\n",
       "    </tr>\n",
       "  </thead>\n",
       "  <tbody>\n",
       "    <tr>\n",
       "      <th>167</th>\n",
       "      <td>1 AV</td>\n",
       "      <td>122765.0</td>\n",
       "    </tr>\n",
       "    <tr>\n",
       "      <th>73</th>\n",
       "      <td>103 ST</td>\n",
       "      <td>165983.0</td>\n",
       "    </tr>\n",
       "    <tr>\n",
       "      <th>173</th>\n",
       "      <td>103 ST-CORONA</td>\n",
       "      <td>118899.0</td>\n",
       "    </tr>\n",
       "    <tr>\n",
       "      <th>265</th>\n",
       "      <td>104 ST</td>\n",
       "      <td>25321.0</td>\n",
       "    </tr>\n",
       "    <tr>\n",
       "      <th>100</th>\n",
       "      <td>110 ST</td>\n",
       "      <td>81240.0</td>\n",
       "    </tr>\n",
       "    <tr>\n",
       "      <th>118</th>\n",
       "      <td>111 ST</td>\n",
       "      <td>92639.0</td>\n",
       "    </tr>\n",
       "    <tr>\n",
       "      <th>315</th>\n",
       "      <td>116 ST</td>\n",
       "      <td>182364.0</td>\n",
       "    </tr>\n",
       "    <tr>\n",
       "      <th>27</th>\n",
       "      <td>116 ST-COLUMBIA</td>\n",
       "      <td>97091.0</td>\n",
       "    </tr>\n",
       "    <tr>\n",
       "      <th>168</th>\n",
       "      <td>121 ST</td>\n",
       "      <td>14017.0</td>\n",
       "    </tr>\n",
       "    <tr>\n",
       "      <th>323</th>\n",
       "      <td>125 ST</td>\n",
       "      <td>419436.0</td>\n",
       "    </tr>\n",
       "    <tr>\n",
       "      <th>103</th>\n",
       "      <td>135 ST</td>\n",
       "      <td>124801.0</td>\n",
       "    </tr>\n",
       "    <tr>\n",
       "      <th>139</th>\n",
       "      <td>137 ST CITY COL</td>\n",
       "      <td>90207.0</td>\n",
       "    </tr>\n",
       "    <tr>\n",
       "      <th>143</th>\n",
       "      <td>138/GRAND CONC</td>\n",
       "      <td>19817.0</td>\n",
       "    </tr>\n",
       "    <tr>\n",
       "      <th>98</th>\n",
       "      <td>14 ST</td>\n",
       "      <td>318519.0</td>\n",
       "    </tr>\n",
       "    <tr>\n",
       "      <th>197</th>\n",
       "      <td>14 ST-UNION SQ</td>\n",
       "      <td>570438.0</td>\n",
       "    </tr>\n",
       "    <tr>\n",
       "      <th>41</th>\n",
       "      <td>145 ST</td>\n",
       "      <td>222841.0</td>\n",
       "    </tr>\n",
       "    <tr>\n",
       "      <th>349</th>\n",
       "      <td>149/GRAND CONC</td>\n",
       "      <td>74321.0</td>\n",
       "    </tr>\n",
       "    <tr>\n",
       "      <th>351</th>\n",
       "      <td>14TH STREET</td>\n",
       "      <td>49441.0</td>\n",
       "    </tr>\n",
       "    <tr>\n",
       "      <th>230</th>\n",
       "      <td>15 ST-PROSPECT</td>\n",
       "      <td>38177.0</td>\n",
       "    </tr>\n",
       "    <tr>\n",
       "      <th>208</th>\n",
       "      <td>155 ST</td>\n",
       "      <td>40703.0</td>\n",
       "    </tr>\n",
       "    <tr>\n",
       "      <th>262</th>\n",
       "      <td>157 ST</td>\n",
       "      <td>66494.0</td>\n",
       "    </tr>\n",
       "    <tr>\n",
       "      <th>202</th>\n",
       "      <td>161/YANKEE STAD</td>\n",
       "      <td>136362.0</td>\n",
       "    </tr>\n",
       "    <tr>\n",
       "      <th>136</th>\n",
       "      <td>163 ST-AMSTERDM</td>\n",
       "      <td>26944.0</td>\n",
       "    </tr>\n",
       "    <tr>\n",
       "      <th>21</th>\n",
       "      <td>167 ST</td>\n",
       "      <td>117996.0</td>\n",
       "    </tr>\n",
       "    <tr>\n",
       "      <th>12</th>\n",
       "      <td>168 ST</td>\n",
       "      <td>144066.0</td>\n",
       "    </tr>\n",
       "    <tr>\n",
       "      <th>54</th>\n",
       "      <td>169 ST</td>\n",
       "      <td>52281.0</td>\n",
       "    </tr>\n",
       "    <tr>\n",
       "      <th>226</th>\n",
       "      <td>170 ST</td>\n",
       "      <td>97960.0</td>\n",
       "    </tr>\n",
       "    <tr>\n",
       "      <th>62</th>\n",
       "      <td>174 ST</td>\n",
       "      <td>35252.0</td>\n",
       "    </tr>\n",
       "    <tr>\n",
       "      <th>69</th>\n",
       "      <td>174-175 STS</td>\n",
       "      <td>31764.0</td>\n",
       "    </tr>\n",
       "    <tr>\n",
       "      <th>140</th>\n",
       "      <td>175 ST</td>\n",
       "      <td>76616.0</td>\n",
       "    </tr>\n",
       "    <tr>\n",
       "      <th>...</th>\n",
       "      <td>...</td>\n",
       "      <td>...</td>\n",
       "    </tr>\n",
       "    <tr>\n",
       "      <th>97</th>\n",
       "      <td>STEINWAY ST</td>\n",
       "      <td>82213.0</td>\n",
       "    </tr>\n",
       "    <tr>\n",
       "      <th>150</th>\n",
       "      <td>SUTPHIN BLVD</td>\n",
       "      <td>27193.0</td>\n",
       "    </tr>\n",
       "    <tr>\n",
       "      <th>2</th>\n",
       "      <td>SUTPHIN-ARCHER</td>\n",
       "      <td>134996.0</td>\n",
       "    </tr>\n",
       "    <tr>\n",
       "      <th>218</th>\n",
       "      <td>SUTTER AV-RUTLD</td>\n",
       "      <td>46226.0</td>\n",
       "    </tr>\n",
       "    <tr>\n",
       "      <th>276</th>\n",
       "      <td>THIRTY ST</td>\n",
       "      <td>39032.0</td>\n",
       "    </tr>\n",
       "    <tr>\n",
       "      <th>184</th>\n",
       "      <td>THIRTY THIRD ST</td>\n",
       "      <td>115227.0</td>\n",
       "    </tr>\n",
       "    <tr>\n",
       "      <th>188</th>\n",
       "      <td>TIMES SQ-42 ST</td>\n",
       "      <td>453968.0</td>\n",
       "    </tr>\n",
       "    <tr>\n",
       "      <th>220</th>\n",
       "      <td>TOMPKINSVILLE</td>\n",
       "      <td>4323.0</td>\n",
       "    </tr>\n",
       "    <tr>\n",
       "      <th>112</th>\n",
       "      <td>TREMONT AV</td>\n",
       "      <td>59894.0</td>\n",
       "    </tr>\n",
       "    <tr>\n",
       "      <th>48</th>\n",
       "      <td>TWENTY THIRD ST</td>\n",
       "      <td>40953.0</td>\n",
       "    </tr>\n",
       "    <tr>\n",
       "      <th>301</th>\n",
       "      <td>UNION ST</td>\n",
       "      <td>37224.0</td>\n",
       "    </tr>\n",
       "    <tr>\n",
       "      <th>19</th>\n",
       "      <td>UTICA AV</td>\n",
       "      <td>87086.0</td>\n",
       "    </tr>\n",
       "    <tr>\n",
       "      <th>174</th>\n",
       "      <td>V.CORTLANDT PK</td>\n",
       "      <td>41540.0</td>\n",
       "    </tr>\n",
       "    <tr>\n",
       "      <th>6</th>\n",
       "      <td>VAN SICLEN AV</td>\n",
       "      <td>30903.0</td>\n",
       "    </tr>\n",
       "    <tr>\n",
       "      <th>250</th>\n",
       "      <td>VAN SICLEN AVE</td>\n",
       "      <td>18930.0</td>\n",
       "    </tr>\n",
       "    <tr>\n",
       "      <th>137</th>\n",
       "      <td>VERNON-JACKSON</td>\n",
       "      <td>6766.0</td>\n",
       "    </tr>\n",
       "    <tr>\n",
       "      <th>182</th>\n",
       "      <td>W 4 ST-WASH SQ</td>\n",
       "      <td>220365.0</td>\n",
       "    </tr>\n",
       "    <tr>\n",
       "      <th>86</th>\n",
       "      <td>W 8 ST-AQUARIUM</td>\n",
       "      <td>12190.0</td>\n",
       "    </tr>\n",
       "    <tr>\n",
       "      <th>82</th>\n",
       "      <td>WAKEFIELD/241</td>\n",
       "      <td>29745.0</td>\n",
       "    </tr>\n",
       "    <tr>\n",
       "      <th>5</th>\n",
       "      <td>WALL ST</td>\n",
       "      <td>221140.0</td>\n",
       "    </tr>\n",
       "    <tr>\n",
       "      <th>308</th>\n",
       "      <td>WEST FARMS SQ</td>\n",
       "      <td>44723.0</td>\n",
       "    </tr>\n",
       "    <tr>\n",
       "      <th>200</th>\n",
       "      <td>WESTCHESTER SQ</td>\n",
       "      <td>37122.0</td>\n",
       "    </tr>\n",
       "    <tr>\n",
       "      <th>121</th>\n",
       "      <td>WHITEHALL S-FRY</td>\n",
       "      <td>79469.0</td>\n",
       "    </tr>\n",
       "    <tr>\n",
       "      <th>337</th>\n",
       "      <td>WHITLOCK AV</td>\n",
       "      <td>10646.0</td>\n",
       "    </tr>\n",
       "    <tr>\n",
       "      <th>231</th>\n",
       "      <td>WINTHROP ST</td>\n",
       "      <td>9098.0</td>\n",
       "    </tr>\n",
       "    <tr>\n",
       "      <th>293</th>\n",
       "      <td>WOODHAVEN BLVD</td>\n",
       "      <td>154284.0</td>\n",
       "    </tr>\n",
       "    <tr>\n",
       "      <th>272</th>\n",
       "      <td>WOODLAWN</td>\n",
       "      <td>35914.0</td>\n",
       "    </tr>\n",
       "    <tr>\n",
       "      <th>196</th>\n",
       "      <td>WORLD TRADE CTR</td>\n",
       "      <td>82946.0</td>\n",
       "    </tr>\n",
       "    <tr>\n",
       "      <th>299</th>\n",
       "      <td>YORK ST</td>\n",
       "      <td>57589.0</td>\n",
       "    </tr>\n",
       "    <tr>\n",
       "      <th>343</th>\n",
       "      <td>ZEREGA AV</td>\n",
       "      <td>15261.0</td>\n",
       "    </tr>\n",
       "  </tbody>\n",
       "</table>\n",
       "<p>355 rows × 2 columns</p>\n",
       "</div>"
      ],
      "text/plain": [
       "                   0         1\n",
       "167             1 AV  122765.0\n",
       "73            103 ST  165983.0\n",
       "173    103 ST-CORONA  118899.0\n",
       "265           104 ST   25321.0\n",
       "100           110 ST   81240.0\n",
       "118           111 ST   92639.0\n",
       "315           116 ST  182364.0\n",
       "27   116 ST-COLUMBIA   97091.0\n",
       "168           121 ST   14017.0\n",
       "323           125 ST  419436.0\n",
       "103           135 ST  124801.0\n",
       "139  137 ST CITY COL   90207.0\n",
       "143   138/GRAND CONC   19817.0\n",
       "98             14 ST  318519.0\n",
       "197   14 ST-UNION SQ  570438.0\n",
       "41            145 ST  222841.0\n",
       "349   149/GRAND CONC   74321.0\n",
       "351      14TH STREET   49441.0\n",
       "230   15 ST-PROSPECT   38177.0\n",
       "208           155 ST   40703.0\n",
       "262           157 ST   66494.0\n",
       "202  161/YANKEE STAD  136362.0\n",
       "136  163 ST-AMSTERDM   26944.0\n",
       "21            167 ST  117996.0\n",
       "12            168 ST  144066.0\n",
       "54            169 ST   52281.0\n",
       "226           170 ST   97960.0\n",
       "62            174 ST   35252.0\n",
       "69       174-175 STS   31764.0\n",
       "140           175 ST   76616.0\n",
       "..               ...       ...\n",
       "97       STEINWAY ST   82213.0\n",
       "150     SUTPHIN BLVD   27193.0\n",
       "2     SUTPHIN-ARCHER  134996.0\n",
       "218  SUTTER AV-RUTLD   46226.0\n",
       "276        THIRTY ST   39032.0\n",
       "184  THIRTY THIRD ST  115227.0\n",
       "188   TIMES SQ-42 ST  453968.0\n",
       "220    TOMPKINSVILLE    4323.0\n",
       "112       TREMONT AV   59894.0\n",
       "48   TWENTY THIRD ST   40953.0\n",
       "301         UNION ST   37224.0\n",
       "19          UTICA AV   87086.0\n",
       "174   V.CORTLANDT PK   41540.0\n",
       "6      VAN SICLEN AV   30903.0\n",
       "250   VAN SICLEN AVE   18930.0\n",
       "137   VERNON-JACKSON    6766.0\n",
       "182   W 4 ST-WASH SQ  220365.0\n",
       "86   W 8 ST-AQUARIUM   12190.0\n",
       "82     WAKEFIELD/241   29745.0\n",
       "5            WALL ST  221140.0\n",
       "308    WEST FARMS SQ   44723.0\n",
       "200   WESTCHESTER SQ   37122.0\n",
       "121  WHITEHALL S-FRY   79469.0\n",
       "337      WHITLOCK AV   10646.0\n",
       "231      WINTHROP ST    9098.0\n",
       "293   WOODHAVEN BLVD  154284.0\n",
       "272         WOODLAWN   35914.0\n",
       "196  WORLD TRADE CTR   82946.0\n",
       "299          YORK ST   57589.0\n",
       "343        ZEREGA AV   15261.0\n",
       "\n",
       "[355 rows x 2 columns]"
      ]
     },
     "execution_count": 249,
     "metadata": {},
     "output_type": "execute_result"
    }
   ],
   "source": [
    "# StatFlowDF.sort_values(by=1)\n",
    "StatFlowDF.sort_values(by=0)"
   ]
  },
  {
   "cell_type": "code",
   "execution_count": 216,
   "metadata": {
    "collapsed": false
   },
   "outputs": [],
   "source": [
    "# StatFlowDF.describe()"
   ]
  },
  {
   "cell_type": "code",
   "execution_count": 265,
   "metadata": {
    "collapsed": false
   },
   "outputs": [],
   "source": [
    "# StatFlowDF = pd.DataFrame(list(StatFlowDict.items()))\n",
    "StatFlowDF2 = pd.Series(StatFlowDict, name = 'DateValue')\n",
    "\n",
    "StatFlowDF2.to_csv('StatFlowDF2.csv')"
   ]
  },
  {
   "cell_type": "code",
   "execution_count": 259,
   "metadata": {
    "collapsed": false
   },
   "outputs": [
    {
     "data": {
      "image/png": "[encoded data removed]",
      "text/plain": [
       "<matplotlib.figure.Figure at 0x122a1f4e0>"
      ]
     },
     "metadata": {},
     "output_type": "display_data"
    }
   ],
   "source": [
    "plt.figure(figsize=(15,7))\n",
    "# plt.figure()\n",
    "# StatFlowDF2.nlargest(15).plot(kind='bar')\n",
    "df = StatFlowDF2.sort_values(ascending=False)\n",
    "ax = df.iloc[:11].plot(kind=\"barh\")\n",
    "ax.invert_yaxis()"
   ]
  },
  {
   "cell_type": "code",
   "execution_count": 266,
   "metadata": {
    "collapsed": true
   },
   "outputs": [],
   "source": [
    "StatFlowDF02 = pd.Series(StatFlowDict0, name = 'DateValue')\n",
    "\n",
    "StatFlowDF02.to_csv('StatFlowDF02_lines.csv')"
   ]
  },
  {
   "cell_type": "code",
   "execution_count": 260,
   "metadata": {
    "collapsed": false
   },
   "outputs": [
    {
     "data": {
      "image/png": "[encoded data removed]",
      "text/plain": [
       "<matplotlib.figure.Figure at 0x122daf5c0>"
      ]
     },
     "metadata": {},
     "output_type": "display_data"
    }
   ],
   "source": [
    "plt.figure(figsize=(15,7))\n",
    "# StatFlowDF02.nlargest(15).plot(kind='bar')\n",
    "df = StatFlowDF02.sort_values(ascending=False)\n",
    "ax = df.iloc[:11].plot(kind=\"barh\")\n",
    "ax.invert_yaxis()\n"
   ]
  },
  {
   "cell_type": "code",
   "execution_count": 267,
   "metadata": {
    "collapsed": false
   },
   "outputs": [],
   "source": [
    "# StatFlowDF02"
   ]
  },
  {
   "cell_type": "code",
   "execution_count": null,
   "metadata": {
    "collapsed": true
   },
   "outputs": [],
   "source": [
    "StatFlowDF02[:,0].sort_values"
   ]
  },
  {
   "cell_type": "code",
   "execution_count": null,
   "metadata": {
    "collapsed": true
   },
   "outputs": [],
   "source": [
    "plt.figure(figsize=(15,7))\n",
    "plt.bar(range(num), [sunday_entries[i] for i in sort_perm[:num]])\n",
    "plt.title(\"Total Entries from 10/18/2014 to 01/24/2015\", size=25)\n",
    "plt.xticks([x + 0.8 for x in range(num)],[stations[i] for i in sort_perm[:num]], size=15, rotation=25, horizontalalignment= 'right');\n",
    "plt.ylabel(\"Total riders in 10s of millions\", size=16);"
   ]
  }
 ],
 "metadata": {
  "kernelspec": {
   "display_name": "Python 3",
   "language": "python",
   "name": "python3"
  },
  "language_info": {
   "codemirror_mode": {
    "name": "ipython",
    "version": 3
   },
   "file_extension": ".py",
   "mimetype": "text/x-python",
   "name": "python",
   "nbconvert_exporter": "python",
   "pygments_lexer": "ipython3",
   "version": "3.5.2"
  }
 },
 "nbformat": 4,
 "nbformat_minor": 0
}
