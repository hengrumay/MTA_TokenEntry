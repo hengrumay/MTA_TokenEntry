{
 "cells": [
  {
   "cell_type": "markdown",
   "metadata": {
    "collapsed": false
   },
   "source": [
    "\n",
    "\"\"\"\n",
    "Created on Mon Sep 19 16:57:47 2016 | modified & converted to notebook\n",
    "\n",
    "@author: hrm\n",
    "\n",
    "Exploring MTA Turnstile Data\n",
    "\n",
    "%% Refs\n",
    "http://web.mta.info/developers/turnstile.html\n",
    "https://data.ny.gov/Transportation/NYC-Transit-Subway-Entrance-And-Exit-Data/i9wp-a4ja/data\n",
    "https://spatialityblog.com/2010/07/08/mta-gis-data-update/\n",
    "\n",
    "\n",
    "%% Pandas\n",
    "http://pythonhow.com/accessing-dataframe-columns-rows-and-cells\n",
    "\n",
    "\"\"\"\n"
   ]
  },
  {
   "cell_type": "code",
   "execution_count": 1,
   "metadata": {
    "collapsed": false
   },
   "outputs": [],
   "source": [
    "import matplotlib\n",
    "%matplotlib inline"
   ]
  },
  {
   "cell_type": "code",
   "execution_count": null,
   "metadata": {
    "collapsed": false
   },
   "outputs": [],
   "source": [
    "## Make into Function -- load list of url data\n",
    "# urlList = [\"http://web.mta.info/developers/data/nyct/turnstile/turnstile_160604.txt\",\n",
    "#            \"http://web.mta.info/developers/data/nyct/turnstile/turnstile_160528.txt\",\n",
    "#            \"http://web.mta.info/developers/data/nyct/turnstile/turnstile_160521.txt\",\n",
    "#            \"http://web.mta.info/developers/data/nyct/turnstile/turnstile_160514.txt\",\n",
    "#            \"http://web.mta.info/developers/data/nyct/turnstile/turnstile_160507.txt\",\n",
    "#            \"http://web.mta.info/developers/data/nyct/turnstile/turnstile_160430.txt\",\n",
    "#            \"http://web.mta.info/developers/data/nyct/turnstile/turnstile_160423.txt\",\n",
    "#            \"http://web.mta.info/developers/data/nyct/turnstile/turnstile_160409.txt\",\n",
    "#            \"http://web.mta.info/developers/data/nyct/turnstile/turnstile_160402.txt\"]\n",
    "\n",
    "#len(urlList)=9\n",
    "\n",
    "# import pandas as pd\n",
    "# #http://pandas.pydata.org/pandas-docs/stable/merging.html\n",
    "\n",
    "# cnt=0\n",
    "# for u in urlList:\n",
    "#     Dtmp = pd.read_csv(u)\n",
    "#     if cnt==0:\n",
    "#         Dmat = Dtmp\n",
    "#     else:\n",
    "#         Dmat = pd.concat([Dmat, Dtmp])\n",
    "#     cnt += 1\n",
    "\n",
    "# del Dtmp\n",
    "\n",
    "# D= Dmat"
   ]
  },
  {
   "cell_type": "code",
   "execution_count": 2,
   "metadata": {
    "collapsed": true
   },
   "outputs": [],
   "source": [
    "import pandas as pd\n",
    "\n",
    "#url = \"http://web.mta.info/developers/data/nyct/turnstile/turnstile_160402.txt\"\n",
    "url = \"http://web.mta.info/developers/data/nyct/turnstile/turnstile_160409.txt\"\n",
    "D = pd.read_csv(url,na_values=['.', 0])\n",
    "#print(D)\n",
    "#D.head\n",
    "\n",
    "#D.columns\n",
    "#Index(['C/A', 'UNIT', 'SCP', 'STATION', 'LINENAME', 'DIVISION', 'DATE', 'TIME','DESC', 'ENTRIES','EXITS'], dtype='object')"
   ]
  },
  {
   "cell_type": "code",
   "execution_count": null,
   "metadata": {
    "collapsed": false
   },
   "outputs": [],
   "source": [
    "\n"
   ]
  },
  {
   "cell_type": "code",
   "execution_count": 197,
   "metadata": {
    "collapsed": true
   },
   "outputs": [],
   "source": [
    "import dateutil.parser as DUparser\n",
    "from collections import defaultdict\n",
    "\n",
    "Ddict = defaultdict(list)\n",
    "for row in D.values:\n",
    "    ca = row[0]\n",
    "    unit = row[1]\n",
    "    scp = row[2]\n",
    "    station = row[3]\n",
    "    linename = row[4]\n",
    "    division = row[5]\n",
    "    date = row[6]\n",
    "    #date_wday = DUparser.parse(date).weekday()\n",
    "    time = row[7]\n",
    "    desc = row[8]\n",
    "    entries = row[9]\n",
    "    exits = row[10]\n",
    "\n",
    "##    Ddict[(ca, unit, scp, station)].append([DUparser.parse(date + \" \" + time), date_wday, int(entries) ]) #,  int(exits)])\n",
    "\n",
    "#     Ddict[(ca, unit, scp, station)].append([DUparser.parse(date + \" \" + time), int(entries) ]) #,  int(exits)])\n",
    "\n",
    "    Ddict[(ca, unit, scp, station, linename)].append([DUparser.parse(date + \" \" + time), int(entries) ])\n",
    "\n"
   ]
  },
  {
   "cell_type": "code",
   "execution_count": null,
   "metadata": {
    "collapsed": true
   },
   "outputs": [],
   "source": [
    "#==============================================================================\n",
    "# some time interval [0,4,8,12,16,20,(0)]+1 discrepancies over daylight savings but also sampling times.\n",
    "# however, if we take day differences in the list of commuter vol/flow count data, this might not be an issue -- day+1[0] - day[0] || or Count_8/9pm - Count_4/8am? || TimeInt[5or-1] - TimeInt[1]\n",
    "\n",
    "#https://pymotw.com/3/datetime/\n",
    "\n",
    "#http://travel.mtanyct.info/serviceadvisory/\n",
    "\n",
    "#=============================================================================="
   ]
  },
  {
   "cell_type": "code",
   "execution_count": 198,
   "metadata": {
    "collapsed": false
   },
   "outputs": [],
   "source": [
    "## Count Passenger Vol by Station-Unit_SCP\n",
    "import numpy as np\n",
    "\n",
    "Sdict = defaultdict(list)\n",
    "\n",
    "for key in Ddict:\n",
    "# new dict with station identifier as key and all entry/exit counts as list of values\n",
    "    tmpHdict = defaultdict(list)\n",
    "\n",
    "    for tf in Ddict[key]:\n",
    "        DateTime= tf[0]\n",
    "        #wday = tf[1]\n",
    "        volume = tf[1]\n",
    "\n",
    "        tmpHdict[DateTime.date()].append(volume)\n",
    "#        break\n",
    "#        print(tmpTdict)\n",
    "\n",
    "        ## get difference between relevant highest(latest | 8/9pm) & lowest (earliest | 4/5am) index of count of the day\n",
    "    tmpCdict = defaultdict(list)\n",
    "    for date in tmpHdict.keys():\n",
    "#        print (date)\n",
    "        #count = max(tmpTdict[date]) - min(tmpTdict[date])\n",
    "        if (len(tmpHdict[date])>=2):\n",
    "            count = tmpHdict[date][len(tmpHdict[date])-1] - tmpHdict[date][1]            \n",
    "        else:\n",
    "            count = [0]\n",
    "\n",
    "        # tmpCdict[date].append([date.weekday(),count])\n",
    "        tmpCdict[date.weekday()].append(count)\n",
    "        \n",
    "    if np.all(np.array(list(tmpCdict.values()))>0)==True:\n",
    "        #Sdict[key]= tmpCdict\n",
    "        if np.all(np.array(list(tmpCdict.values()))<6000000)==True:  # reasonable counts per week \n",
    "            Sdict[key]= tmpCdict\n",
    "\n",
    "#Sdict"
   ]
  },
  {
   "cell_type": "code",
   "execution_count": 164,
   "metadata": {
    "collapsed": false
   },
   "outputs": [],
   "source": [
    "# 5000*16 #*7 #560000"
   ]
  },
  {
   "cell_type": "code",
   "execution_count": 217,
   "metadata": {
    "collapsed": false
   },
   "outputs": [],
   "source": [
    "# Sdict"
   ]
  },
  {
   "cell_type": "code",
   "execution_count": null,
   "metadata": {
    "collapsed": false
   },
   "outputs": [],
   "source": [
    "# list(Sdict.values())[0]"
   ]
  },
  {
   "cell_type": "code",
   "execution_count": 163,
   "metadata": {
    "collapsed": false
   },
   "outputs": [],
   "source": [
    "# import numpy as np\n",
    "# test=np.array(list(list(Sdict.values())[0].values()))\n",
    "# test\n",
    "# np.all(test>0)"
   ]
  },
  {
   "cell_type": "code",
   "execution_count": 207,
   "metadata": {
    "collapsed": false
   },
   "outputs": [],
   "source": [
    "## Cluster Count Passenger Vol by Station\n",
    "\n",
    "#DC = {(keys[0],keys[1],keys[3]): values for keys, values in Sdict.items() }\n",
    "\n",
    "\n",
    "#pd.DataFrame(Sdict[list(Sdict.keys())[0]])\n",
    "#pd.DataFrame(Sdict[list(Sdict.keys())[1]])\n",
    "#pd.concat([])\n",
    "\n",
    "SNdict0 = defaultdict(list)\n",
    "SNdict = defaultdict(list)\n",
    "\n",
    "for key in Sdict:\n",
    "# new dict with stationName (+2other) identifier as key and all entry/exit counts as list of values\n",
    "#    print key\n",
    "#    print\n",
    "    #SNdict0[key[0],key[1],key[3]].append( pd.DataFrame(Sdict[key]) )\n",
    "    SNdict0[key[3],key[4]].append( pd.DataFrame(Sdict[key]) )\n",
    "    SNdict[key[3]].append( pd.DataFrame(Sdict[key]) )\n"
   ]
  },
  {
   "cell_type": "code",
   "execution_count": 138,
   "metadata": {
    "collapsed": false
   },
   "outputs": [],
   "source": [
    "# pd.concat(SNdict[list(SNdict.keys())[0]])"
   ]
  },
  {
   "cell_type": "code",
   "execution_count": 83,
   "metadata": {
    "collapsed": false
   },
   "outputs": [
    {
     "data": {
      "text/plain": [
       "39566"
      ]
     },
     "execution_count": 83,
     "metadata": {},
     "output_type": "execute_result"
    }
   ],
   "source": [
    "# np.sum(list(pd.concat(SNdict[list(SNdict.keys())[0]]).sum()))\n"
   ]
  },
  {
   "cell_type": "code",
   "execution_count": 208,
   "metadata": {
    "collapsed": false
   },
   "outputs": [],
   "source": [
    "StatFlowDict = defaultdict(list)\n",
    "\n",
    "for key in SNdict:\n",
    "    StatFlowDict[key] =  np.sum(list(pd.concat(SNdict[key]).sum())) \n",
    "\n",
    "StatFlowDict0 = defaultdict(list)    \n",
    "for key in SNdict0:    \n",
    "    StatFlowDict0[key] =  np.sum(list(pd.concat(SNdict0[key]).sum())) \n"
   ]
  },
  {
   "cell_type": "code",
   "execution_count": 154,
   "metadata": {
    "collapsed": false
   },
   "outputs": [],
   "source": [
    "# StatFlowDict"
   ]
  },
  {
   "cell_type": "code",
   "execution_count": 209,
   "metadata": {
    "collapsed": false
   },
   "outputs": [],
   "source": [
    "# StatFlowDF = pd.DataFrame(list(StatFlowDict.items()))\n",
    "StatFlowDF2 = pd.Series(StatFlowDict, name = 'DateValue')\n"
   ]
  },
  {
   "cell_type": "code",
   "execution_count": 210,
   "metadata": {
    "collapsed": false
   },
   "outputs": [
    {
     "data": {
      "text/plain": [
       "<matplotlib.axes._subplots.AxesSubplot at 0x106ba70f0>"
      ]
     },
     "execution_count": 210,
     "metadata": {},
     "output_type": "execute_result"
    },
    {
     "data": {
      "image/png": "[encoded data removed]",
      "text/plain": [
       "<matplotlib.figure.Figure at 0x1188573c8>"
      ]
     },
     "metadata": {},
     "output_type": "display_data"
    }
   ],
   "source": [
    "StatFlowDF2.nlargest(20).plot(kind='bar')"
   ]
  },
  {
   "cell_type": "code",
   "execution_count": 211,
   "metadata": {
    "collapsed": true
   },
   "outputs": [],
   "source": [
    "StatFlowDF02 = pd.Series(StatFlowDict0, name = 'DateValue')\n"
   ]
  },
  {
   "cell_type": "code",
   "execution_count": 214,
   "metadata": {
    "collapsed": false
   },
   "outputs": [
    {
     "data": {
      "text/plain": [
       "<matplotlib.axes._subplots.AxesSubplot at 0x11bc18400>"
      ]
     },
     "execution_count": 214,
     "metadata": {},
     "output_type": "execute_result"
    },
    {
     "data": {
      "image/png": "[encoded data removed]",
      "text/plain": [
       "<matplotlib.figure.Figure at 0x11beab780>"
      ]
     },
     "metadata": {},
     "output_type": "display_data"
    }
   ],
   "source": [
    "StatFlowDF02.nlargest(20).plot(kind='bar')"
   ]
  },
  {
   "cell_type": "code",
   "execution_count": 180,
   "metadata": {
    "collapsed": false
   },
   "outputs": [],
   "source": [
    "# StatFlowDF.sort_values(by=1)"
   ]
  },
  {
   "cell_type": "code",
   "execution_count": 215,
   "metadata": {
    "collapsed": false,
    "scrolled": true
   },
   "outputs": [],
   "source": [
    "# StatFlowDF.plot()"
   ]
  },
  {
   "cell_type": "code",
   "execution_count": 216,
   "metadata": {
    "collapsed": false
   },
   "outputs": [],
   "source": [
    "# StatFlowDF.describe()"
   ]
  }
 ],
 "metadata": {
  "kernelspec": {
   "display_name": "Python 3",
   "language": "python",
   "name": "python3"
  },
  "language_info": {
   "codemirror_mode": {
    "name": "ipython",
    "version": 3
   },
   "file_extension": ".py",
   "mimetype": "text/x-python",
   "name": "python",
   "nbconvert_exporter": "python",
   "pygments_lexer": "ipython3",
   "version": "3.5.2"
  }
 },
 "nbformat": 4,
 "nbformat_minor": 0
}
