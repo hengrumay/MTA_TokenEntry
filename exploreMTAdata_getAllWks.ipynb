{
 "cells": [
  {
   "cell_type": "markdown",
   "metadata": {
    "collapsed": false
   },
   "source": [
    "\n",
    "\"\"\"\n",
    "Created on Mon Sep 19 16:57:47 2016 | modified & converted to notebook\n",
    "\n",
    "@author: hrm\n",
    "\n",
    "Exploring MTA Turnstile Data\n",
    "\n",
    "%% Refs\n",
    "http://web.mta.info/developers/turnstile.html\n",
    "https://data.ny.gov/Transportation/NYC-Transit-Subway-Entrance-And-Exit-Data/i9wp-a4ja/data\n",
    "https://spatialityblog.com/2010/07/08/mta-gis-data-update/\n",
    "\n",
    "\n",
    "%% Pandas\n",
    "http://pythonhow.com/accessing-dataframe-columns-rows-and-cells\n",
    "\n",
    "\"\"\"\n"
   ]
  },
  {
   "cell_type": "code",
   "execution_count": 1,
   "metadata": {
    "collapsed": false
   },
   "outputs": [],
   "source": [
    "import matplotlib\n",
    "%matplotlib inline"
   ]
  },
  {
   "cell_type": "code",
   "execution_count": 2,
   "metadata": {
    "collapsed": true
   },
   "outputs": [],
   "source": [
    "## Libraries\n",
    "import matplotlib.pyplot as plt\n",
    "import pandas as pd\n",
    "import dateutil.parser as DUparser\n",
    "from collections import defaultdict\n",
    "import numpy as np"
   ]
  },
  {
   "cell_type": "code",
   "execution_count": 3,
   "metadata": {
    "collapsed": false
   },
   "outputs": [],
   "source": [
    "# # Make into Function -- load list of url data\n",
    "urlList = [\"http://web.mta.info/developers/data/nyct/turnstile/turnstile_160604.txt\",\n",
    "           \"http://web.mta.info/developers/data/nyct/turnstile/turnstile_160528.txt\",\n",
    "           \"http://web.mta.info/developers/data/nyct/turnstile/turnstile_160521.txt\",\n",
    "           \"http://web.mta.info/developers/data/nyct/turnstile/turnstile_160514.txt\",\n",
    "           \"http://web.mta.info/developers/data/nyct/turnstile/turnstile_160507.txt\",\n",
    "           \"http://web.mta.info/developers/data/nyct/turnstile/turnstile_160430.txt\",\n",
    "           \"http://web.mta.info/developers/data/nyct/turnstile/turnstile_160423.txt\",\n",
    "           \"http://web.mta.info/developers/data/nyct/turnstile/turnstile_160409.txt\",\n",
    "           \"http://web.mta.info/developers/data/nyct/turnstile/turnstile_160402.txt\"]\n",
    "\n",
    "filename = [\"turnstile_160604\",\n",
    "           \"turnstile_160528\",\n",
    "           \"turnstile_160521\",\n",
    "           \"turnstile_160514\",\n",
    "           \"turnstile_160507\",\n",
    "           \"turnstile_160430\",\n",
    "           \"turnstile_160423\",\n",
    "           \"turnstile_160409\",\n",
    "           \"turnstile_160402\"]\n",
    "\n",
    "# len(urlList)#=9\n",
    "\n",
    "# import pandas as pd\n",
    "# #http://pandas.pydata.org/pandas-docs/stable/merging.html\n",
    "\n",
    "# cnt=0\n",
    "# for u in urlList:\n",
    "#     Dtmp = pd.read_csv(u)\n",
    "#     if cnt==0:\n",
    "#         Dmat = Dtmp\n",
    "#     else:\n",
    "#         Dmat = pd.concat([Dmat, Dtmp])\n",
    "#     cnt += 1\n",
    "\n",
    "# del Dtmp\n",
    "\n",
    "# D= Dmat"
   ]
  },
  {
   "cell_type": "code",
   "execution_count": 4,
   "metadata": {
    "collapsed": false
   },
   "outputs": [],
   "source": [
    "# url = \"http://web.mta.info/developers/data/nyct/turnstile/turnstile_160604.txt\"\n",
    "# url = \"http://web.mta.info/developers/data/nyct/turnstile/turnstile_160528.txt\"\n",
    "# url = \"http://web.mta.info/developers/data/nyct/turnstile/turnstile_160521.txt\"\n",
    "# url = \"http://web.mta.info/developers/data/nyct/turnstile/turnstile_160514.txt\"\n",
    "# url = \"http://web.mta.info/developers/data/nyct/turnstile/turnstile_160507.txt\" ##?\n",
    "# url = \"http://web.mta.info/developers/data/nyct/turnstile/turnstile_160430.txt\"\n",
    "# url = \"http://web.mta.info/developers/data/nyct/turnstile/turnstile_160423.txt\"\n",
    "# url = \"http://web.mta.info/developers/data/nyct/turnstile/turnstile_160409.txt\"\n",
    "# url = \"http://web.mta.info/developers/data/nyct/turnstile/turnstile_160402.txt\"\n",
    "# D = pd.read_csv(url,na_values=['.', 0])\n",
    "\n",
    "n=0\n",
    "D = pd.read_csv(urlList[n],na_values=['.', 0])\n",
    "pklfile1 = filename[n]+'_1'+'.pkl'\n",
    "pklfile0 = filename[n]+'_0'+'.pkl'\n",
    "\n",
    "#print(D)\n",
    "#D.head\n",
    "\n",
    "#D.columns\n",
    "#Index(['C/A', 'UNIT', 'SCP', 'STATION', 'LINENAME', 'DIVISION', 'DATE', 'TIME','DESC', 'ENTRIES','EXITS'], dtype='object')"
   ]
  },
  {
   "cell_type": "code",
   "execution_count": 5,
   "metadata": {
    "collapsed": false
   },
   "outputs": [
    {
     "data": {
      "text/plain": [
       "'turnstile_160604_1.pkl'"
      ]
     },
     "execution_count": 5,
     "metadata": {},
     "output_type": "execute_result"
    }
   ],
   "source": [
    "pklfile1"
   ]
  },
  {
   "cell_type": "code",
   "execution_count": 6,
   "metadata": {
    "collapsed": false
   },
   "outputs": [],
   "source": [
    "# import dateutil.parser as DUparser\n",
    "# from collections import defaultdict\n",
    "\n",
    "def makeDataDict(D):\n",
    "    Ddict = defaultdict(list)\n",
    "    for row in D.values:\n",
    "        ca = row[0]\n",
    "        unit = row[1]\n",
    "        scp = row[2]\n",
    "        station = row[3]\n",
    "        linename = row[4]\n",
    "        division = row[5]\n",
    "        date = row[6]\n",
    "        #date_wday = DUparser.parse(date).weekday()\n",
    "        time = row[7]\n",
    "        desc = row[8]\n",
    "        entries = row[9]\n",
    "        exits = row[10]\n",
    "\n",
    "    ##    Ddict[(ca, unit, scp, station)].append([DUparser.parse(date + \" \" + time), date_wday, int(entries) ]) #,  int(exits)])\n",
    "\n",
    "    #     Ddict[(ca, unit, scp, station)].append([DUparser.parse(date + \" \" + time), int(entries) ]) #,  int(exits)])\n",
    "\n",
    "        Ddict[(ca, unit, scp, station, linename)].append([DUparser.parse(date + \" \" + time), int(entries) ])\n",
    "\n",
    "    return Ddict\n"
   ]
  },
  {
   "cell_type": "code",
   "execution_count": 7,
   "metadata": {
    "collapsed": false
   },
   "outputs": [],
   "source": [
    "Ddict = makeDataDict(D)"
   ]
  },
  {
   "cell_type": "code",
   "execution_count": 8,
   "metadata": {
    "collapsed": false
   },
   "outputs": [],
   "source": [
    "# list(Ddict.items())[:10]"
   ]
  },
  {
   "cell_type": "code",
   "execution_count": 9,
   "metadata": {
    "collapsed": true
   },
   "outputs": [],
   "source": [
    "#==============================================================================\n",
    "# some time interval [0,4,8,12,16,20,(0)]+1 discrepancies over daylight savings but also sampling times.\n",
    "# however, if we take day differences in the list of commuter vol/flow count data, this might not be an issue -- day+1[0] - day[0] || or Count_8/9pm - Count_4/8am? || TimeInt[5or-1] - TimeInt[1]\n",
    "\n",
    "#https://pymotw.com/3/datetime/\n",
    "\n",
    "#http://travel.mtanyct.info/serviceadvisory/\n",
    "\n",
    "#=============================================================================="
   ]
  },
  {
   "cell_type": "code",
   "execution_count": 10,
   "metadata": {
    "collapsed": false
   },
   "outputs": [],
   "source": [
    "## Count Passenger Vol by Station-Unit_SCP\n",
    "# import numpy as np\n",
    "\n",
    "# def makeStaTSDict_countBYday(Ddict):\n",
    "    \n",
    "Sdict = defaultdict(list)\n",
    "\n",
    "for key in Ddict:\n",
    "    # new dict with station-related identifiers (e.g. Turnstiles) as key(s) and all entry/exit counts as list of values\n",
    "    tmpHdict = defaultdict(list)\n",
    "\n",
    "    for tf in Ddict[key]:\n",
    "        DateTime= tf[0]\n",
    "        #wday = tf[1]\n",
    "        volume = tf[1]\n",
    "\n",
    "        tmpHdict[DateTime.date()].append(volume)\n",
    "#        break\n",
    "#        print(tmpTdict)\n",
    "\n",
    "    ## get difference between relevant highest(latest | 8/9pm) & lowest (earliest | 4/5am) index of count of the day\n",
    "    tmpCdict = defaultdict(list)\n",
    "    for date in tmpHdict.keys():\n",
    "#        print (date)\n",
    "        #count = max(tmpTdict[date]) - min(tmpTdict[date])\n",
    "        if (len(tmpHdict[date])>=2):\n",
    "            count = tmpHdict[date][len(tmpHdict[date])-1] - tmpHdict[date][1]            \n",
    "        else:\n",
    "            count = [0]\n",
    "\n",
    "        # tmpCdict[date].append([date.weekday(),count])\n",
    "        tmpCdict[date.weekday()].append(count)\n",
    "\n",
    "#     ## exclude \"outliers\"\n",
    "#     if np.all(np.array(list(tmpCdict.values()))>0)==True:  ## DOESN'T WORK FOR ALL DATASETS\n",
    "        Sdict[key]= tmpCdict\n",
    "#         if np.all(np.array(list(tmpCdict.values()))<6000000)==True:  \n",
    "#             # reasonable counts per week || # 5000*(20-4) #*7 #560000\n",
    "#             Sdict[key]= tmpCdict\n",
    "#     elif np.all(np.array(list(tmpCdict.values()))>0)==False:\n",
    "#         Sdict[key]= []\n",
    "\n",
    "# \treturn Sdict"
   ]
  },
  {
   "cell_type": "code",
   "execution_count": 11,
   "metadata": {
    "collapsed": false
   },
   "outputs": [],
   "source": [
    "# date.isocalendar()[1]\n",
    "# Sdict\n",
    "# key\n",
    "# pd.DataFrame(list(Sdict.values())[12])\n",
    "# date.isoweekday()\n",
    "# np.all(np.array(list(tmpCdict.values()))>0)"
   ]
  },
  {
   "cell_type": "code",
   "execution_count": 12,
   "metadata": {
    "collapsed": false
   },
   "outputs": [],
   "source": [
    "# np.array(list(tmpCdict.values()))\n",
    "# # np.all(np.array(list(tmpCdict.values()))>0)\n",
    "# # tmpCdict.items()\n",
    "\n",
    "# np.all(np.array(list(tmpCdict.values()))<6000000)==True"
   ]
  },
  {
   "cell_type": "code",
   "execution_count": null,
   "metadata": {
    "collapsed": true
   },
   "outputs": [],
   "source": []
  },
  {
   "cell_type": "code",
   "execution_count": 13,
   "metadata": {
    "collapsed": false
   },
   "outputs": [],
   "source": [
    "# Sdict = makeStaDict_TScountBYday(Ddict)"
   ]
  },
  {
   "cell_type": "code",
   "execution_count": 14,
   "metadata": {
    "collapsed": false
   },
   "outputs": [],
   "source": [
    "# Sdict"
   ]
  },
  {
   "cell_type": "code",
   "execution_count": 15,
   "metadata": {
    "collapsed": false
   },
   "outputs": [],
   "source": [
    "# 5000*16 #*7 #560000"
   ]
  },
  {
   "cell_type": "code",
   "execution_count": 16,
   "metadata": {
    "collapsed": false
   },
   "outputs": [],
   "source": [
    "# list(Sdict.values())[0]"
   ]
  },
  {
   "cell_type": "code",
   "execution_count": 17,
   "metadata": {
    "collapsed": false
   },
   "outputs": [],
   "source": [
    "# import numpy as np\n",
    "# test=np.array(list(list(Sdict.values())[0].values()))\n",
    "# test\n",
    "# np.all(test>0)"
   ]
  },
  {
   "cell_type": "code",
   "execution_count": 18,
   "metadata": {
    "collapsed": false
   },
   "outputs": [],
   "source": [
    "## Cluster Daily Count Passenger Vol by Station/Station_Unit\n",
    "\n",
    "# def makeStaDict_SUcountBYday(Sdict):\n",
    "    \n",
    "SNdict0 = defaultdict(list)  # with subway lines info\n",
    "SNdict = defaultdict(list)   # without subway lines info\n",
    "\n",
    "for key in Sdict:\n",
    "    # new dict with stationName (+2other) identifier as key and all entry/exit counts as list of values\n",
    "    #    print key\n",
    "    #    print\n",
    "    #SNdict0[key[0],key[1],key[3]].append( pd.DataFrame(Sdict[key]) )\n",
    "    SNdict0[key[3],key[4]].append( pd.DataFrame(Sdict[key]) )\n",
    "    SNdict[key[3]].append( pd.DataFrame(Sdict[key]) )\n",
    "\n",
    "# \treturn SNdict0, SNdict"
   ]
  },
  {
   "cell_type": "code",
   "execution_count": 19,
   "metadata": {
    "collapsed": false
   },
   "outputs": [],
   "source": [
    "# SNdict0, SNdict = makeStaDict_SUcountBYday(Sdict)"
   ]
  },
  {
   "cell_type": "code",
   "execution_count": 20,
   "metadata": {
    "collapsed": false
   },
   "outputs": [],
   "source": [
    "# key\n",
    "# Sdict[key].values()\n",
    "# # pd.DataFrame(Sdict[key])\n",
    "# # key[3]\n",
    "# SNdict"
   ]
  },
  {
   "cell_type": "code",
   "execution_count": 21,
   "metadata": {
    "collapsed": false
   },
   "outputs": [],
   "source": [
    "# pd.concat(SNdict[list(SNdict.keys())[0]])"
   ]
  },
  {
   "cell_type": "code",
   "execution_count": 22,
   "metadata": {
    "collapsed": false
   },
   "outputs": [],
   "source": [
    "# # np.sum(list(pd.concat(SNdict[list(SNdict.keys())[0]]).sum())) #39566\n",
    "# np.sum?\n",
    "# pd.sum?"
   ]
  },
  {
   "cell_type": "code",
   "execution_count": 23,
   "metadata": {
    "collapsed": false
   },
   "outputs": [],
   "source": [
    "## Weekly Total Passenger Vol by Station/Station_Unit\n",
    "\n",
    "def makeStaDict_countBYweek(SNdict):   \n",
    "    StatFlowDict = defaultdict(list)\n",
    "    for key in SNdict:\n",
    "        StatFlowDict[key] =  np.sum(list(pd.concat(SNdict[key]).sum()))\n",
    "    return StatFlowDict    \n",
    "    \n",
    "# StatFlowDict = defaultdict(list)\n",
    "# for key in SNdict:\n",
    "#     StatFlowDict[key] =  np.sum(list(pd.concat(SNdict[key]).sum())) \n",
    "\n",
    "# StatFlowDict0 = defaultdict(list)    \n",
    "# for key in SNdict0:    \n",
    "#     StatFlowDict0[key] =  np.sum(list(pd.concat(SNdict0[key]).sum())) \n"
   ]
  },
  {
   "cell_type": "code",
   "execution_count": 24,
   "metadata": {
    "collapsed": true
   },
   "outputs": [],
   "source": [
    "StatFlowDict = makeStaDict_countBYweek(SNdict)   \n",
    "StatFlowDict0 = makeStaDict_countBYweek(SNdict0) "
   ]
  },
  {
   "cell_type": "code",
   "execution_count": 25,
   "metadata": {
    "collapsed": false
   },
   "outputs": [],
   "source": [
    "# StatFlowDict"
   ]
  },
  {
   "cell_type": "code",
   "execution_count": 26,
   "metadata": {
    "collapsed": false,
    "scrolled": true
   },
   "outputs": [],
   "source": [
    "# StatFlowDF.plot()"
   ]
  },
  {
   "cell_type": "code",
   "execution_count": 27,
   "metadata": {
    "collapsed": false
   },
   "outputs": [],
   "source": [
    "# StatFlowDF = pd.DataFrame(list(StatFlowDict.items()))"
   ]
  },
  {
   "cell_type": "code",
   "execution_count": 28,
   "metadata": {
    "collapsed": false
   },
   "outputs": [],
   "source": [
    "# StatFlowDF[2] = StatFlowDF[1] \n",
    "# StatFlowDF"
   ]
  },
  {
   "cell_type": "code",
   "execution_count": 29,
   "metadata": {
    "collapsed": false
   },
   "outputs": [],
   "source": [
    "# StatFlowDF.sort_values(by=1)\n",
    "# StatFlowDF.sort_values(by=0)"
   ]
  },
  {
   "cell_type": "code",
   "execution_count": 30,
   "metadata": {
    "collapsed": false
   },
   "outputs": [],
   "source": [
    "# StatFlowDF.describe()"
   ]
  },
  {
   "cell_type": "code",
   "execution_count": 31,
   "metadata": {
    "collapsed": false
   },
   "outputs": [],
   "source": [
    "StatFlowDF = pd.DataFrame(list(StatFlowDict.items()))\n",
    "StatFlowDF0 = pd.DataFrame(list(StatFlowDict0.items()))\n",
    "# StatFlowDF0"
   ]
  },
  {
   "cell_type": "code",
   "execution_count": 32,
   "metadata": {
    "collapsed": false
   },
   "outputs": [],
   "source": [
    "StatFlowDS = pd.Series(StatFlowDict, name = 'DateValue')\n",
    "# StatFlowDF2.to_csv('StatFlowDF2.csv')"
   ]
  },
  {
   "cell_type": "code",
   "execution_count": 33,
   "metadata": {
    "collapsed": false
   },
   "outputs": [
    {
     "data": {
      "image/png": "[encoded data removed]",
      "text/plain": [
       "<matplotlib.figure.Figure at 0x11bff8550>"
      ]
     },
     "metadata": {},
     "output_type": "display_data"
    }
   ],
   "source": [
    "plt.figure(figsize=(15,7))\n",
    "# plt.figure()\n",
    "# StatFlowDF2.nlargest(15).plot(kind='bar')\n",
    "df = StatFlowDS.sort_values(ascending=False)\n",
    "ax = df.iloc[:11].plot(kind=\"barh\")\n",
    "ax.invert_yaxis()"
   ]
  },
  {
   "cell_type": "code",
   "execution_count": 34,
   "metadata": {
    "collapsed": false
   },
   "outputs": [],
   "source": [
    "# df"
   ]
  },
  {
   "cell_type": "code",
   "execution_count": 35,
   "metadata": {
    "collapsed": false
   },
   "outputs": [],
   "source": [
    "StatFlowDS0 = pd.Series(StatFlowDict0) #, name = 'DateValue')\n",
    "\n",
    "# StatFlowDF02.to_csv('StatFlowDF02_lines.csv')"
   ]
  },
  {
   "cell_type": "code",
   "execution_count": 36,
   "metadata": {
    "collapsed": false
   },
   "outputs": [
    {
     "data": {
      "image/png": "[encoded data removed]",
      "text/plain": [
       "<matplotlib.figure.Figure at 0x11c09d780>"
      ]
     },
     "metadata": {},
     "output_type": "display_data"
    }
   ],
   "source": [
    "plt.figure(figsize=(15,7))\n",
    "# StatFlowDF02.nlargest(15).plot(kind='bar')\n",
    "df = StatFlowDS0.sort_values(ascending=False)\n",
    "ax = df.iloc[:11].plot(kind=\"barh\")\n",
    "ax.invert_yaxis()\n"
   ]
  },
  {
   "cell_type": "code",
   "execution_count": 37,
   "metadata": {
    "collapsed": false
   },
   "outputs": [
    {
     "data": {
      "text/plain": [
       "(373, 2)"
      ]
     },
     "execution_count": 37,
     "metadata": {},
     "output_type": "execute_result"
    }
   ],
   "source": [
    "StatFlowDF.shape"
   ]
  },
  {
   "cell_type": "code",
   "execution_count": 38,
   "metadata": {
    "collapsed": false
   },
   "outputs": [
    {
     "data": {
      "text/plain": [
       "(472, 2)"
      ]
     },
     "execution_count": 38,
     "metadata": {},
     "output_type": "execute_result"
    }
   ],
   "source": [
    "StatFlowDF0.shape"
   ]
  },
  {
   "cell_type": "code",
   "execution_count": 39,
   "metadata": {
    "collapsed": false
   },
   "outputs": [],
   "source": [
    "# plt.figure(figsize=(15,7))\n",
    "# plt.bar(range(num), [sunday_entries[i] for i in sort_perm[:num]])\n",
    "# plt.title(\"Total Entries from 10/18/2014 to 01/24/2015\", size=25)\n",
    "# plt.xticks([x + 0.8 for x in range(num)],[stations[i] for i in sort_perm[:num]], size=15, rotation=25, horizontalalignment= 'right');\n",
    "# plt.ylabel(\"Total riders in 10s of millions\", size=16);"
   ]
  },
  {
   "cell_type": "code",
   "execution_count": 65,
   "metadata": {
    "collapsed": false
   },
   "outputs": [],
   "source": [
    "import pickle\n",
    "\n",
    "with open(pklfile1,'wb') as picklefile:\n",
    "    pickle.dump(StatFlowDF, picklefile)\n",
    "#     pickle.dump(StatFlowDict, picklefile)    \n",
    "\n",
    "with open(pklfile0,'wb') as picklefile:\n",
    "    pickle.dump(StatFlowDF0, picklefile)\n",
    "#     pickle.dump(StatFlowDict0, picklefile)\n",
    "        \n",
    "# StatFlowDF02.to_pickle('StatFlowDF02_test.pkl')"
   ]
  },
  {
   "cell_type": "code",
   "execution_count": 66,
   "metadata": {
    "collapsed": false
   },
   "outputs": [],
   "source": [
    "with open(pklfile1, 'rb') as picklefile:\n",
    "    data1 = pd.DataFrame(pickle.load(picklefile))\n",
    "#     data1 = pickle.load(picklefile)\n",
    "\n",
    "# with open('StatFlowDF0_test.pkl', 'rb') as picklefile:\n",
    "#     data = pd.DataFrame(pickle.load(picklefile))\n",
    "\n",
    "with open(pklfile0, 'rb') as picklefile:\n",
    "    data0 = pd.DataFrame(pickle.load(picklefile))\n",
    "#     data0 = pickle.load(picklefile)"
   ]
  },
  {
   "cell_type": "code",
   "execution_count": 74,
   "metadata": {
    "collapsed": false
   },
   "outputs": [
    {
     "name": "stderr",
     "output_type": "stream",
     "text": [
      "/Users/hrm/anaconda/lib/python3.5/site-packages/ipykernel/__main__.py:1: FutureWarning: sort(columns=....) is deprecated, use sort_values(by=.....)\n",
      "  if __name__ == '__main__':\n"
     ]
    },
    {
     "data": {
      "text/html": [
       "<div>\n",
       "<table border=\"1\" class=\"dataframe\">\n",
       "  <thead>\n",
       "    <tr style=\"text-align: right;\">\n",
       "      <th></th>\n",
       "      <th>0</th>\n",
       "      <th>1</th>\n",
       "    </tr>\n",
       "  </thead>\n",
       "  <tbody>\n",
       "    <tr>\n",
       "      <th>68</th>\n",
       "      <td>JAY ST-METROTEC</td>\n",
       "      <td>2.076302e+09</td>\n",
       "    </tr>\n",
       "    <tr>\n",
       "      <th>266</th>\n",
       "      <td>34 ST-PENN STA</td>\n",
       "      <td>8.420520e+05</td>\n",
       "    </tr>\n",
       "    <tr>\n",
       "      <th>303</th>\n",
       "      <td>GRD CNTRL-42 ST</td>\n",
       "      <td>7.017250e+05</td>\n",
       "    </tr>\n",
       "    <tr>\n",
       "      <th>158</th>\n",
       "      <td>86 ST</td>\n",
       "      <td>5.445660e+05</td>\n",
       "    </tr>\n",
       "    <tr>\n",
       "      <th>130</th>\n",
       "      <td>34 ST-HERALD SQ</td>\n",
       "      <td>5.388230e+05</td>\n",
       "    </tr>\n",
       "    <tr>\n",
       "      <th>56</th>\n",
       "      <td>14 ST-UNION SQ</td>\n",
       "      <td>4.976180e+05</td>\n",
       "    </tr>\n",
       "    <tr>\n",
       "      <th>37</th>\n",
       "      <td>23 ST</td>\n",
       "      <td>4.726670e+05</td>\n",
       "    </tr>\n",
       "    <tr>\n",
       "      <th>240</th>\n",
       "      <td>FULTON ST</td>\n",
       "      <td>4.133910e+05</td>\n",
       "    </tr>\n",
       "    <tr>\n",
       "      <th>365</th>\n",
       "      <td>42 ST-PORT AUTH</td>\n",
       "      <td>4.096690e+05</td>\n",
       "    </tr>\n",
       "    <tr>\n",
       "      <th>135</th>\n",
       "      <td>TIMES SQ-42 ST</td>\n",
       "      <td>4.011060e+05</td>\n",
       "    </tr>\n",
       "    <tr>\n",
       "      <th>354</th>\n",
       "      <td>125 ST</td>\n",
       "      <td>3.834100e+05</td>\n",
       "    </tr>\n",
       "    <tr>\n",
       "      <th>206</th>\n",
       "      <td>59 ST</td>\n",
       "      <td>3.773260e+05</td>\n",
       "    </tr>\n",
       "    <tr>\n",
       "      <th>310</th>\n",
       "      <td>59 ST COLUMBUS</td>\n",
       "      <td>3.209750e+05</td>\n",
       "    </tr>\n",
       "    <tr>\n",
       "      <th>219</th>\n",
       "      <td>FLUSHING-MAIN</td>\n",
       "      <td>3.172790e+05</td>\n",
       "    </tr>\n",
       "    <tr>\n",
       "      <th>175</th>\n",
       "      <td>CANAL ST</td>\n",
       "      <td>3.115190e+05</td>\n",
       "    </tr>\n",
       "    <tr>\n",
       "      <th>128</th>\n",
       "      <td>CHAMBERS ST</td>\n",
       "      <td>3.054540e+05</td>\n",
       "    </tr>\n",
       "    <tr>\n",
       "      <th>188</th>\n",
       "      <td>JKSN HT-ROOSVLT</td>\n",
       "      <td>2.633990e+05</td>\n",
       "    </tr>\n",
       "    <tr>\n",
       "      <th>321</th>\n",
       "      <td>72 ST</td>\n",
       "      <td>2.632240e+05</td>\n",
       "    </tr>\n",
       "    <tr>\n",
       "      <th>183</th>\n",
       "      <td>14 ST</td>\n",
       "      <td>2.548790e+05</td>\n",
       "    </tr>\n",
       "    <tr>\n",
       "      <th>148</th>\n",
       "      <td>47-50 STS ROCK</td>\n",
       "      <td>2.397060e+05</td>\n",
       "    </tr>\n",
       "    <tr>\n",
       "      <th>43</th>\n",
       "      <td>ATL AV-BARCLAY</td>\n",
       "      <td>2.370870e+05</td>\n",
       "    </tr>\n",
       "    <tr>\n",
       "      <th>346</th>\n",
       "      <td>28 ST</td>\n",
       "      <td>2.330330e+05</td>\n",
       "    </tr>\n",
       "    <tr>\n",
       "      <th>256</th>\n",
       "      <td>WALL ST</td>\n",
       "      <td>2.238660e+05</td>\n",
       "    </tr>\n",
       "    <tr>\n",
       "      <th>103</th>\n",
       "      <td>77 ST</td>\n",
       "      <td>2.057670e+05</td>\n",
       "    </tr>\n",
       "    <tr>\n",
       "      <th>162</th>\n",
       "      <td>145 ST</td>\n",
       "      <td>1.982900e+05</td>\n",
       "    </tr>\n",
       "    <tr>\n",
       "      <th>169</th>\n",
       "      <td>116 ST</td>\n",
       "      <td>1.945650e+05</td>\n",
       "    </tr>\n",
       "    <tr>\n",
       "      <th>353</th>\n",
       "      <td>JAMAICA CENTER</td>\n",
       "      <td>1.906690e+05</td>\n",
       "    </tr>\n",
       "    <tr>\n",
       "      <th>22</th>\n",
       "      <td>W 4 ST-WASH SQ</td>\n",
       "      <td>1.883300e+05</td>\n",
       "    </tr>\n",
       "    <tr>\n",
       "      <th>41</th>\n",
       "      <td>CHURCH AV</td>\n",
       "      <td>1.789920e+05</td>\n",
       "    </tr>\n",
       "    <tr>\n",
       "      <th>165</th>\n",
       "      <td>7 AV</td>\n",
       "      <td>1.779740e+05</td>\n",
       "    </tr>\n",
       "    <tr>\n",
       "      <th>...</th>\n",
       "      <td>...</td>\n",
       "      <td>...</td>\n",
       "    </tr>\n",
       "    <tr>\n",
       "      <th>247</th>\n",
       "      <td>MIDDLETOWN RD</td>\n",
       "      <td>1.019900e+04</td>\n",
       "    </tr>\n",
       "    <tr>\n",
       "      <th>172</th>\n",
       "      <td>MORRIS PARK</td>\n",
       "      <td>9.884000e+03</td>\n",
       "    </tr>\n",
       "    <tr>\n",
       "      <th>278</th>\n",
       "      <td>AQUEDUCT RACETR</td>\n",
       "      <td>9.704000e+03</td>\n",
       "    </tr>\n",
       "    <tr>\n",
       "      <th>149</th>\n",
       "      <td>WHITLOCK AV</td>\n",
       "      <td>9.561000e+03</td>\n",
       "    </tr>\n",
       "    <tr>\n",
       "      <th>163</th>\n",
       "      <td>NEPTUNE AV</td>\n",
       "      <td>9.559000e+03</td>\n",
       "    </tr>\n",
       "    <tr>\n",
       "      <th>329</th>\n",
       "      <td>BEACH 90 ST</td>\n",
       "      <td>9.386000e+03</td>\n",
       "    </tr>\n",
       "    <tr>\n",
       "      <th>223</th>\n",
       "      <td>215 ST</td>\n",
       "      <td>9.334000e+03</td>\n",
       "    </tr>\n",
       "    <tr>\n",
       "      <th>115</th>\n",
       "      <td>BOTANIC GARDEN</td>\n",
       "      <td>8.651000e+03</td>\n",
       "    </tr>\n",
       "    <tr>\n",
       "      <th>48</th>\n",
       "      <td>ATLANTIC AV</td>\n",
       "      <td>8.443000e+03</td>\n",
       "    </tr>\n",
       "    <tr>\n",
       "      <th>93</th>\n",
       "      <td>21 ST</td>\n",
       "      <td>8.218000e+03</td>\n",
       "    </tr>\n",
       "    <tr>\n",
       "      <th>65</th>\n",
       "      <td>CYPRESS HILLS</td>\n",
       "      <td>8.144000e+03</td>\n",
       "    </tr>\n",
       "    <tr>\n",
       "      <th>121</th>\n",
       "      <td>NEWARK HM HE</td>\n",
       "      <td>7.130000e+03</td>\n",
       "    </tr>\n",
       "    <tr>\n",
       "      <th>357</th>\n",
       "      <td>BEACH 98 ST</td>\n",
       "      <td>6.203000e+03</td>\n",
       "    </tr>\n",
       "    <tr>\n",
       "      <th>159</th>\n",
       "      <td>ROCKAWAY PARK B</td>\n",
       "      <td>6.203000e+03</td>\n",
       "    </tr>\n",
       "    <tr>\n",
       "      <th>263</th>\n",
       "      <td>E 143/ST MARY'S</td>\n",
       "      <td>5.558000e+03</td>\n",
       "    </tr>\n",
       "    <tr>\n",
       "      <th>2</th>\n",
       "      <td>AQUEDUCT N.COND</td>\n",
       "      <td>5.402000e+03</td>\n",
       "    </tr>\n",
       "    <tr>\n",
       "      <th>25</th>\n",
       "      <td>BEACH 36 ST</td>\n",
       "      <td>5.363000e+03</td>\n",
       "    </tr>\n",
       "    <tr>\n",
       "      <th>318</th>\n",
       "      <td>TOMPKINSVILLE</td>\n",
       "      <td>4.124000e+03</td>\n",
       "    </tr>\n",
       "    <tr>\n",
       "      <th>276</th>\n",
       "      <td>BEACH 44 ST</td>\n",
       "      <td>3.860000e+03</td>\n",
       "    </tr>\n",
       "    <tr>\n",
       "      <th>228</th>\n",
       "      <td>PATH WTC 2</td>\n",
       "      <td>3.426000e+03</td>\n",
       "    </tr>\n",
       "    <tr>\n",
       "      <th>89</th>\n",
       "      <td>BEACH 105 ST</td>\n",
       "      <td>2.776000e+03</td>\n",
       "    </tr>\n",
       "    <tr>\n",
       "      <th>46</th>\n",
       "      <td>6 AV</td>\n",
       "      <td>2.314000e+03</td>\n",
       "    </tr>\n",
       "    <tr>\n",
       "      <th>74</th>\n",
       "      <td>BROAD CHANNEL</td>\n",
       "      <td>1.665000e+03</td>\n",
       "    </tr>\n",
       "    <tr>\n",
       "      <th>285</th>\n",
       "      <td>NORWOOD AV</td>\n",
       "      <td>1.189000e+03</td>\n",
       "    </tr>\n",
       "    <tr>\n",
       "      <th>90</th>\n",
       "      <td>ORCHARD BEACH</td>\n",
       "      <td>1.200000e+01</td>\n",
       "    </tr>\n",
       "    <tr>\n",
       "      <th>146</th>\n",
       "      <td>JFK JAMAICA CT1</td>\n",
       "      <td>-8.351700e+04</td>\n",
       "    </tr>\n",
       "    <tr>\n",
       "      <th>70</th>\n",
       "      <td>85 ST-FOREST PK</td>\n",
       "      <td>-1.622110e+05</td>\n",
       "    </tr>\n",
       "    <tr>\n",
       "      <th>122</th>\n",
       "      <td>170 ST</td>\n",
       "      <td>-4.667150e+05</td>\n",
       "    </tr>\n",
       "    <tr>\n",
       "      <th>181</th>\n",
       "      <td>96 ST</td>\n",
       "      <td>-5.864706e+06</td>\n",
       "    </tr>\n",
       "    <tr>\n",
       "      <th>164</th>\n",
       "      <td>8 AV</td>\n",
       "      <td>-1.393838e+07</td>\n",
       "    </tr>\n",
       "  </tbody>\n",
       "</table>\n",
       "<p>373 rows × 2 columns</p>\n",
       "</div>"
      ],
      "text/plain": [
       "                   0             1\n",
       "68   JAY ST-METROTEC  2.076302e+09\n",
       "266   34 ST-PENN STA  8.420520e+05\n",
       "303  GRD CNTRL-42 ST  7.017250e+05\n",
       "158            86 ST  5.445660e+05\n",
       "130  34 ST-HERALD SQ  5.388230e+05\n",
       "56    14 ST-UNION SQ  4.976180e+05\n",
       "37             23 ST  4.726670e+05\n",
       "240        FULTON ST  4.133910e+05\n",
       "365  42 ST-PORT AUTH  4.096690e+05\n",
       "135   TIMES SQ-42 ST  4.011060e+05\n",
       "354           125 ST  3.834100e+05\n",
       "206            59 ST  3.773260e+05\n",
       "310   59 ST COLUMBUS  3.209750e+05\n",
       "219    FLUSHING-MAIN  3.172790e+05\n",
       "175         CANAL ST  3.115190e+05\n",
       "128      CHAMBERS ST  3.054540e+05\n",
       "188  JKSN HT-ROOSVLT  2.633990e+05\n",
       "321            72 ST  2.632240e+05\n",
       "183            14 ST  2.548790e+05\n",
       "148   47-50 STS ROCK  2.397060e+05\n",
       "43    ATL AV-BARCLAY  2.370870e+05\n",
       "346            28 ST  2.330330e+05\n",
       "256          WALL ST  2.238660e+05\n",
       "103            77 ST  2.057670e+05\n",
       "162           145 ST  1.982900e+05\n",
       "169           116 ST  1.945650e+05\n",
       "353   JAMAICA CENTER  1.906690e+05\n",
       "22    W 4 ST-WASH SQ  1.883300e+05\n",
       "41         CHURCH AV  1.789920e+05\n",
       "165             7 AV  1.779740e+05\n",
       "..               ...           ...\n",
       "247    MIDDLETOWN RD  1.019900e+04\n",
       "172      MORRIS PARK  9.884000e+03\n",
       "278  AQUEDUCT RACETR  9.704000e+03\n",
       "149      WHITLOCK AV  9.561000e+03\n",
       "163       NEPTUNE AV  9.559000e+03\n",
       "329      BEACH 90 ST  9.386000e+03\n",
       "223           215 ST  9.334000e+03\n",
       "115   BOTANIC GARDEN  8.651000e+03\n",
       "48       ATLANTIC AV  8.443000e+03\n",
       "93             21 ST  8.218000e+03\n",
       "65     CYPRESS HILLS  8.144000e+03\n",
       "121     NEWARK HM HE  7.130000e+03\n",
       "357      BEACH 98 ST  6.203000e+03\n",
       "159  ROCKAWAY PARK B  6.203000e+03\n",
       "263  E 143/ST MARY'S  5.558000e+03\n",
       "2    AQUEDUCT N.COND  5.402000e+03\n",
       "25       BEACH 36 ST  5.363000e+03\n",
       "318    TOMPKINSVILLE  4.124000e+03\n",
       "276      BEACH 44 ST  3.860000e+03\n",
       "228       PATH WTC 2  3.426000e+03\n",
       "89      BEACH 105 ST  2.776000e+03\n",
       "46              6 AV  2.314000e+03\n",
       "74     BROAD CHANNEL  1.665000e+03\n",
       "285       NORWOOD AV  1.189000e+03\n",
       "90     ORCHARD BEACH  1.200000e+01\n",
       "146  JFK JAMAICA CT1 -8.351700e+04\n",
       "70   85 ST-FOREST PK -1.622110e+05\n",
       "122           170 ST -4.667150e+05\n",
       "181            96 ST -5.864706e+06\n",
       "164             8 AV -1.393838e+07\n",
       "\n",
       "[373 rows x 2 columns]"
      ]
     },
     "execution_count": 74,
     "metadata": {},
     "output_type": "execute_result"
    }
   ],
   "source": [
    "# data1.sort(columns=1, ascending=False)\n",
    "# pd.concat([data1, data0[1]], axis=1, join_axes=[data1.index])"
   ]
  },
  {
   "cell_type": "code",
   "execution_count": null,
   "metadata": {
    "collapsed": true
   },
   "outputs": [],
   "source": [
    "## Tried to read in... to average but the names might not match... =(\n",
    "# MAYBE RANKING TOP 10 stations over the week to see the frequency insteaD? \n",
    "# data1.sort(columns=1, ascending=False)\n",
    "\n",
    "\n",
    "# from collections import defaultdict\n",
    "import pandas as pd\n",
    "import pickle\n",
    "\n",
    "\n",
    "filename = [\"turnstile_160604\",\n",
    "           \"turnstile_160528\",\n",
    "           \"turnstile_160521\",\n",
    "           \"turnstile_160514\",\n",
    "           \"turnstile_160507\",\n",
    "           \"turnstile_160430\",\n",
    "           \"turnstile_160423\",\n",
    "           \"turnstile_160409\",\n",
    "           \"turnstile_160402\"]\n",
    "\n",
    "\n",
    "for f in filename:\n",
    "    print(f)\n",
    "    pklfile1 = f+'_1'+'.pkl'\n",
    "    #pklfile0 = filename[n]+'_0'+'.pkl'\n",
    "    print(pklfile1)\n",
    "\n",
    "    with open(pklfile1, 'rb') as picklefile:\n",
    "        data1 = pd.DataFrame(pickle.load(picklefile))\n",
    "#        data1 = pickle.load(picklefile)\n",
    "\n",
    "#    data1_Dict = dict(zip(data1[0], data1[1]))\n",
    "#\n",
    "#    Ddict = defaultdict(list)\n",
    "#    for k, v in data1_Dict.items():\n",
    "#        Ddict[k].append(v)\n",
    "\n",
    "\n",
    "for f in filename:\n",
    "    print(f)\n",
    "    pklfile0 = f+'_0'+'.pkl'\n",
    "    #pklfile0 = filename[n]+'_0'+'.pkl'\n",
    "    print(pklfile0)\n",
    "\n",
    "    with open(pklfile0, 'rb') as picklefile:\n",
    "        data0 = pd.DataFrame(pickle.load(picklefile))\n",
    "#        data0 = pickle.load(picklefile)\n",
    "\n",
    "#    data0_Dict = dict(zip(data1[0], data1[1]))\n",
    "#\n",
    "#    Ddict = defaultdict(list)\n",
    "#    for k, v in data1_Dict.items():\n",
    "#        Ddict[k].append(v)"
   ]
  }
 ],
 "metadata": {
  "kernelspec": {
   "display_name": "Python 3",
   "language": "python",
   "name": "python3"
  },
  "language_info": {
   "codemirror_mode": {
    "name": "ipython",
    "version": 3
   },
   "file_extension": ".py",
   "mimetype": "text/x-python",
   "name": "python",
   "nbconvert_exporter": "python",
   "pygments_lexer": "ipython3",
   "version": "3.5.2"
  }
 },
 "nbformat": 4,
 "nbformat_minor": 0
}
