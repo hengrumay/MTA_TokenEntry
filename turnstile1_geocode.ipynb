{
 "cells": [
  {
   "cell_type": "code",
   "execution_count": 1,
   "metadata": {
    "collapsed": false
   },
   "outputs": [],
   "source": [
    "import pandas as pd\n",
    "from pandas import DataFrame"
   ]
  },
  {
   "cell_type": "code",
   "execution_count": 5,
   "metadata": {
    "collapsed": false,
    "scrolled": true
   },
   "outputs": [
    {
     "data": {
      "text/html": [
       "<div>\n",
       "<table border=\"1\" class=\"dataframe\">\n",
       "  <thead>\n",
       "    <tr style=\"text-align: right;\">\n",
       "      <th></th>\n",
       "      <th>Station Latitude</th>\n",
       "      <th>Station Longitude</th>\n",
       "      <th>Division</th>\n",
       "      <th>Line</th>\n",
       "      <th>Station Name</th>\n",
       "    </tr>\n",
       "  </thead>\n",
       "  <tbody>\n",
       "    <tr>\n",
       "      <th>0</th>\n",
       "      <td>40.661453</td>\n",
       "      <td>-73.916327</td>\n",
       "      <td>3</td>\n",
       "      <td>3</td>\n",
       "      <td>Saratoga Av</td>\n",
       "    </tr>\n",
       "    <tr>\n",
       "      <th>1</th>\n",
       "      <td>40.744081</td>\n",
       "      <td>-73.995657</td>\n",
       "      <td>4</td>\n",
       "      <td>4</td>\n",
       "      <td>23rd St</td>\n",
       "    </tr>\n",
       "    <tr>\n",
       "      <th>2</th>\n",
       "      <td>40.699814</td>\n",
       "      <td>-73.911586</td>\n",
       "      <td>3</td>\n",
       "      <td>3</td>\n",
       "      <td>Myrtle Av</td>\n",
       "    </tr>\n",
       "    <tr>\n",
       "      <th>3</th>\n",
       "      <td>40.852462</td>\n",
       "      <td>-73.828121</td>\n",
       "      <td>5</td>\n",
       "      <td>5</td>\n",
       "      <td>Pelham Bay Park</td>\n",
       "    </tr>\n",
       "    <tr>\n",
       "      <th>4</th>\n",
       "      <td>40.699337</td>\n",
       "      <td>-73.990531</td>\n",
       "      <td>3</td>\n",
       "      <td>3</td>\n",
       "      <td>High St</td>\n",
       "    </tr>\n",
       "  </tbody>\n",
       "</table>\n",
       "</div>"
      ],
      "text/plain": [
       "   Station Latitude  Station Longitude  Division  Line     Station Name\n",
       "0         40.661453         -73.916327         3     3      Saratoga Av\n",
       "1         40.744081         -73.995657         4     4          23rd St\n",
       "2         40.699814         -73.911586         3     3        Myrtle Av\n",
       "3         40.852462         -73.828121         5     5  Pelham Bay Park\n",
       "4         40.699337         -73.990531         3     3          High St"
      ]
     },
     "execution_count": 5,
     "metadata": {},
     "output_type": "execute_result"
    }
   ],
   "source": [
    "#load station data with geocodes [longitude and latitude]\n",
    "\n",
    "geodf = pd.read_csv('/Users/pillbug/ds/metis/NYC_Transit_Subway_Entrance_And_Exit_Data.csv')\n",
    "geodf.head()"
   ]
  },
  {
   "cell_type": "code",
   "execution_count": 6,
   "metadata": {
    "collapsed": false
   },
   "outputs": [
    {
     "data": {
      "text/html": [
       "<div>\n",
       "<table border=\"1\" class=\"dataframe\">\n",
       "  <thead>\n",
       "    <tr style=\"text-align: right;\">\n",
       "      <th></th>\n",
       "      <th>Station Latitude</th>\n",
       "      <th>Station Longitude</th>\n",
       "      <th>Division</th>\n",
       "      <th>Line</th>\n",
       "      <th>STATION</th>\n",
       "    </tr>\n",
       "  </thead>\n",
       "  <tbody>\n",
       "    <tr>\n",
       "      <th>0</th>\n",
       "      <td>40.661453</td>\n",
       "      <td>-73.916327</td>\n",
       "      <td>3</td>\n",
       "      <td>3</td>\n",
       "      <td>Saratoga Av</td>\n",
       "    </tr>\n",
       "  </tbody>\n",
       "</table>\n",
       "</div>"
      ],
      "text/plain": [
       "   Station Latitude  Station Longitude  Division  Line      STATION\n",
       "0         40.661453         -73.916327         3     3  Saratoga Av"
      ]
     },
     "execution_count": 6,
     "metadata": {},
     "output_type": "execute_result"
    }
   ],
   "source": [
    "geodf.rename(columns={'Station Name' : 'STATION'},inplace=True)\n",
    "geodf.head(1)"
   ]
  },
  {
   "cell_type": "code",
   "execution_count": 10,
   "metadata": {
    "collapsed": false
   },
   "outputs": [],
   "source": [
    "#rename station \n",
    "statlist = geodf['STATION'].unique().tolist()\n",
    "#statlist = sorted(statlist)"
   ]
  },
  {
   "cell_type": "code",
   "execution_count": null,
   "metadata": {
    "collapsed": false
   },
   "outputs": [],
   "source": []
  }
 ],
 "metadata": {
  "anaconda-cloud": {},
  "kernelspec": {
   "display_name": "Python [Root]",
   "language": "python",
   "name": "Python [Root]"
  },
  "language_info": {
   "codemirror_mode": {
    "name": "ipython",
    "version": 3
   },
   "file_extension": ".py",
   "mimetype": "text/x-python",
   "name": "python",
   "nbconvert_exporter": "python",
   "pygments_lexer": "ipython3",
   "version": "3.5.2"
  }
 },
 "nbformat": 4,
 "nbformat_minor": 0
}
