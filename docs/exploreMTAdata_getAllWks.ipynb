{
 "cells": [
  {
   "cell_type": "markdown",
   "metadata": {
    "collapsed": false
   },
   "source": [
    "\n",
    "\"\"\"\n",
    "Created on Mon Sep 19 16:57:47 2016 | modified & converted to notebook\n",
    "\n",
    "@author: hrm\n",
    "\n",
    "Exploring MTA Turnstile Data\n",
    "\n",
    "%% Refs\n",
    "http://web.mta.info/developers/turnstile.html\n",
    "https://data.ny.gov/Transportation/NYC-Transit-Subway-Entrance-And-Exit-Data/i9wp-a4ja/data\n",
    "https://spatialityblog.com/2010/07/08/mta-gis-data-update/\n",
    "\n",
    "\n",
    "%% Pandas\n",
    "http://pythonhow.com/accessing-dataframe-columns-rows-and-cells\n",
    "\n",
    "\"\"\"\n"
   ]
  },
  {
   "cell_type": "code",
   "execution_count": 1,
   "metadata": {
    "collapsed": false
   },
   "outputs": [],
   "source": [
    "import matplotlib\n",
    "%matplotlib inline"
   ]
  },
  {
   "cell_type": "code",
   "execution_count": 2,
   "metadata": {
    "collapsed": true
   },
   "outputs": [],
   "source": [
    "## Libraries\n",
    "import matplotlib.pyplot as plt\n",
    "import pandas as pd\n",
    "import dateutil.parser as DUparser\n",
    "from collections import defaultdict\n",
    "import numpy as np"
   ]
  },
  {
   "cell_type": "code",
   "execution_count": 3,
   "metadata": {
    "collapsed": false
   },
   "outputs": [],
   "source": [
    "# # Make into Function -- load list of url data\n",
    "urlList = [\"http://web.mta.info/developers/data/nyct/turnstile/turnstile_160604.txt\",\n",
    "           \"http://web.mta.info/developers/data/nyct/turnstile/turnstile_160528.txt\",\n",
    "           \"http://web.mta.info/developers/data/nyct/turnstile/turnstile_160521.txt\",\n",
    "           \"http://web.mta.info/developers/data/nyct/turnstile/turnstile_160514.txt\",\n",
    "           \"http://web.mta.info/developers/data/nyct/turnstile/turnstile_160507.txt\",\n",
    "           \"http://web.mta.info/developers/data/nyct/turnstile/turnstile_160430.txt\",\n",
    "           \"http://web.mta.info/developers/data/nyct/turnstile/turnstile_160423.txt\",\n",
    "           \"http://web.mta.info/developers/data/nyct/turnstile/turnstile_160409.txt\",\n",
    "           \"http://web.mta.info/developers/data/nyct/turnstile/turnstile_160402.txt\"]\n",
    "\n",
    "filename = [\"turnstile_160604\",\n",
    "           \"turnstile_160528\",\n",
    "           \"turnstile_160521\",\n",
    "           \"turnstile_160514\",\n",
    "           \"turnstile_160507\",\n",
    "           \"turnstile_160430\",\n",
    "           \"turnstile_160423\",\n",
    "           \"turnstile_160409\",\n",
    "           \"turnstile_160402\"]\n",
    "\n",
    "# len(urlList)#=9\n",
    "\n",
    "# import pandas as pd\n",
    "# #http://pandas.pydata.org/pandas-docs/stable/merging.html\n",
    "\n",
    "# cnt=0\n",
    "# for u in urlList:\n",
    "#     Dtmp = pd.read_csv(u)\n",
    "#     if cnt==0:\n",
    "#         Dmat = Dtmp\n",
    "#     else:\n",
    "#         Dmat = pd.concat([Dmat, Dtmp])\n",
    "#     cnt += 1\n",
    "\n",
    "# del Dtmp\n",
    "\n",
    "# D= Dmat"
   ]
  },
  {
   "cell_type": "code",
   "execution_count": 4,
   "metadata": {
    "collapsed": false
   },
   "outputs": [],
   "source": [
    "# url = \"http://web.mta.info/developers/data/nyct/turnstile/turnstile_160604.txt\"\n",
    "# url = \"http://web.mta.info/developers/data/nyct/turnstile/turnstile_160528.txt\"\n",
    "# url = \"http://web.mta.info/developers/data/nyct/turnstile/turnstile_160521.txt\"\n",
    "# url = \"http://web.mta.info/developers/data/nyct/turnstile/turnstile_160514.txt\"\n",
    "# url = \"http://web.mta.info/developers/data/nyct/turnstile/turnstile_160507.txt\" ##?\n",
    "# url = \"http://web.mta.info/developers/data/nyct/turnstile/turnstile_160430.txt\"\n",
    "# url = \"http://web.mta.info/developers/data/nyct/turnstile/turnstile_160423.txt\"\n",
    "# url = \"http://web.mta.info/developers/data/nyct/turnstile/turnstile_160409.txt\"\n",
    "# url = \"http://web.mta.info/developers/data/nyct/turnstile/turnstile_160402.txt\"\n",
    "# D = pd.read_csv(url,na_values=['.', 0])\n",
    "\n",
    "n=8\n",
    "D = pd.read_csv(urlList[n],na_values=['.', 0])\n",
    "pklfile1 = filename[n]+'_1'#+'.pkl'\n",
    "pklfile0 = filename[n]+'_0'#+'.pkl'\n",
    "\n",
    "#print(D)\n",
    "#D.head\n",
    "\n",
    "#D.columns\n",
    "#Index(['C/A', 'UNIT', 'SCP', 'STATION', 'LINENAME', 'DIVISION', 'DATE', 'TIME','DESC', 'ENTRIES','EXITS'], dtype='object')"
   ]
  },
  {
   "cell_type": "code",
   "execution_count": 5,
   "metadata": {
    "collapsed": false
   },
   "outputs": [
    {
     "data": {
      "text/plain": [
       "'turnstile_160402_0'"
      ]
     },
     "execution_count": 5,
     "metadata": {},
     "output_type": "execute_result"
    }
   ],
   "source": [
    "pklfile0"
   ]
  },
  {
   "cell_type": "code",
   "execution_count": 6,
   "metadata": {
    "collapsed": false
   },
   "outputs": [],
   "source": [
    "# import dateutil.parser as DUparser\n",
    "# from collections import defaultdict\n",
    "\n",
    "def makeDataDict(D):\n",
    "    Ddict = defaultdict(list)\n",
    "    for row in D.values:\n",
    "        ca = row[0]\n",
    "        unit = row[1]\n",
    "        scp = row[2]\n",
    "        station = row[3]\n",
    "        linename = row[4]\n",
    "        division = row[5]\n",
    "        date = row[6]\n",
    "        #date_wday = DUparser.parse(date).weekday()\n",
    "        time = row[7]\n",
    "        desc = row[8]\n",
    "        entries = row[9]\n",
    "        exits = row[10]\n",
    "\n",
    "    ##    Ddict[(ca, unit, scp, station)].append([DUparser.parse(date + \" \" + time), date_wday, int(entries) ]) #,  int(exits)])\n",
    "\n",
    "    #     Ddict[(ca, unit, scp, station)].append([DUparser.parse(date + \" \" + time), int(entries) ]) #,  int(exits)])\n",
    "\n",
    "        Ddict[(ca, unit, scp, station, linename)].append([DUparser.parse(date + \" \" + time), int(entries) ])\n",
    "\n",
    "    return Ddict\n"
   ]
  },
  {
   "cell_type": "code",
   "execution_count": 7,
   "metadata": {
    "collapsed": false
   },
   "outputs": [],
   "source": [
    "Ddict = makeDataDict(D)"
   ]
  },
  {
   "cell_type": "code",
   "execution_count": 8,
   "metadata": {
    "collapsed": false
   },
   "outputs": [],
   "source": [
    "# list(Ddict.items())[:10]"
   ]
  },
  {
   "cell_type": "code",
   "execution_count": 9,
   "metadata": {
    "collapsed": true
   },
   "outputs": [],
   "source": [
    "#==============================================================================\n",
    "# some time interval [0,4,8,12,16,20,(0)]+1 discrepancies over daylight savings but also sampling times.\n",
    "# however, if we take day differences in the list of commuter vol/flow count data, this might not be an issue -- day+1[0] - day[0] || or Count_8/9pm - Count_4/8am? || TimeInt[5or-1] - TimeInt[1]\n",
    "\n",
    "#https://pymotw.com/3/datetime/\n",
    "\n",
    "#http://travel.mtanyct.info/serviceadvisory/\n",
    "\n",
    "#=============================================================================="
   ]
  },
  {
   "cell_type": "code",
   "execution_count": 10,
   "metadata": {
    "collapsed": false
   },
   "outputs": [],
   "source": [
    "## Count Passenger Vol by Station-Unit_SCP\n",
    "# import numpy as np\n",
    "\n",
    "# def makeStaTSDict_countBYday(Ddict):\n",
    "    \n",
    "Sdict = defaultdict(list)\n",
    "\n",
    "for key in Ddict:\n",
    "    # new dict with station-related identifiers (e.g. Turnstiles) as key(s) and all entry/exit counts as list of values\n",
    "    tmpHdict = defaultdict(list)\n",
    "\n",
    "    for tf in Ddict[key]:\n",
    "        DateTime= tf[0]\n",
    "        #wday = tf[1]\n",
    "        volume = tf[1]\n",
    "\n",
    "        tmpHdict[DateTime.date()].append(volume)\n",
    "#        break\n",
    "#        print(tmpTdict)\n",
    "\n",
    "    ## get difference between relevant highest(latest | 8/9pm) & lowest (earliest | 4/5am) index of count of the day\n",
    "    tmpCdict = defaultdict(list)\n",
    "    for date in tmpHdict.keys():\n",
    "#        print (date)\n",
    "        #count = max(tmpTdict[date]) - min(tmpTdict[date])\n",
    "        if (len(tmpHdict[date])>=2):\n",
    "            count = tmpHdict[date][len(tmpHdict[date])-1] - tmpHdict[date][1]            \n",
    "        else:\n",
    "            count = [0]\n",
    "\n",
    "        # tmpCdict[date].append([date.weekday(),count])\n",
    "        tmpCdict[date.weekday()].append(count)\n",
    "\n",
    "#     ## exclude \"outliers\"\n",
    "#     if np.all(np.array(list(tmpCdict.values()))>0)==True:  ## DOESN'T WORK FOR ALL DATASETS\n",
    "        Sdict[key]= tmpCdict\n",
    "#         if np.all(np.array(list(tmpCdict.values()))<6000000)==True:  \n",
    "#             # reasonable counts per week || # 5000*(20-4) #*7 #560000\n",
    "#             Sdict[key]= tmpCdict\n",
    "#     elif np.all(np.array(list(tmpCdict.values()))>0)==False:\n",
    "#         Sdict[key]= []\n",
    "\n",
    "# \treturn Sdict"
   ]
  },
  {
   "cell_type": "code",
   "execution_count": 11,
   "metadata": {
    "collapsed": false
   },
   "outputs": [],
   "source": [
    "# date.isocalendar()[1]\n",
    "# Sdict\n",
    "# key\n",
    "# pd.DataFrame(list(Sdict.values())[12])\n",
    "# date.isoweekday()\n",
    "# np.all(np.array(list(tmpCdict.values()))>0)"
   ]
  },
  {
   "cell_type": "code",
   "execution_count": 12,
   "metadata": {
    "collapsed": false
   },
   "outputs": [],
   "source": [
    "# np.array(list(tmpCdict.values()))\n",
    "# # np.all(np.array(list(tmpCdict.values()))>0)\n",
    "# # tmpCdict.items()\n",
    "\n",
    "# np.all(np.array(list(tmpCdict.values()))<6000000)==True"
   ]
  },
  {
   "cell_type": "code",
   "execution_count": null,
   "metadata": {
    "collapsed": true
   },
   "outputs": [],
   "source": []
  },
  {
   "cell_type": "code",
   "execution_count": 13,
   "metadata": {
    "collapsed": false
   },
   "outputs": [],
   "source": [
    "# Sdict = makeStaDict_TScountBYday(Ddict)"
   ]
  },
  {
   "cell_type": "code",
   "execution_count": 14,
   "metadata": {
    "collapsed": false
   },
   "outputs": [],
   "source": [
    "# Sdict"
   ]
  },
  {
   "cell_type": "code",
   "execution_count": 15,
   "metadata": {
    "collapsed": false
   },
   "outputs": [],
   "source": [
    "# 5000*16 #*7 #560000"
   ]
  },
  {
   "cell_type": "code",
   "execution_count": 16,
   "metadata": {
    "collapsed": false
   },
   "outputs": [],
   "source": [
    "# list(Sdict.values())[0]"
   ]
  },
  {
   "cell_type": "code",
   "execution_count": 17,
   "metadata": {
    "collapsed": false
   },
   "outputs": [],
   "source": [
    "# import numpy as np\n",
    "# test=np.array(list(list(Sdict.values())[0].values()))\n",
    "# test\n",
    "# np.all(test>0)"
   ]
  },
  {
   "cell_type": "code",
   "execution_count": 18,
   "metadata": {
    "collapsed": false
   },
   "outputs": [],
   "source": [
    "## Cluster Daily Count Passenger Vol by Station/Station_Unit\n",
    "\n",
    "# def makeStaDict_SUcountBYday(Sdict):\n",
    "    \n",
    "SNdict0 = defaultdict(list)  # with subway lines info\n",
    "SNdict = defaultdict(list)   # without subway lines info\n",
    "\n",
    "for key in Sdict:\n",
    "    # new dict with stationName (+2other) identifier as key and all entry/exit counts as list of values\n",
    "    #    print key\n",
    "    #    print\n",
    "    #SNdict0[key[0],key[1],key[3]].append( pd.DataFrame(Sdict[key]) )\n",
    "    SNdict0[key[3],key[4]].append( pd.DataFrame(Sdict[key]) )\n",
    "    SNdict[key[3]].append( pd.DataFrame(Sdict[key]) )\n",
    "\n",
    "# \treturn SNdict0, SNdict"
   ]
  },
  {
   "cell_type": "code",
   "execution_count": 19,
   "metadata": {
    "collapsed": false
   },
   "outputs": [],
   "source": [
    "# SNdict0, SNdict = makeStaDict_SUcountBYday(Sdict)"
   ]
  },
  {
   "cell_type": "code",
   "execution_count": 20,
   "metadata": {
    "collapsed": false
   },
   "outputs": [],
   "source": [
    "# key\n",
    "# Sdict[key].values()\n",
    "# # pd.DataFrame(Sdict[key])\n",
    "# # key[3]\n",
    "# SNdict"
   ]
  },
  {
   "cell_type": "code",
   "execution_count": 21,
   "metadata": {
    "collapsed": false
   },
   "outputs": [],
   "source": [
    "# pd.concat(SNdict[list(SNdict.keys())[0]])"
   ]
  },
  {
   "cell_type": "code",
   "execution_count": 22,
   "metadata": {
    "collapsed": false
   },
   "outputs": [],
   "source": [
    "# # np.sum(list(pd.concat(SNdict[list(SNdict.keys())[0]]).sum())) #39566\n",
    "# np.sum?\n",
    "# pd.sum?"
   ]
  },
  {
   "cell_type": "code",
   "execution_count": 23,
   "metadata": {
    "collapsed": false
   },
   "outputs": [],
   "source": [
    "## Weekly Total Passenger Vol by Station/Station_Unit\n",
    "\n",
    "def makeStaDict_countBYweek(SNdict):   \n",
    "    StatFlowDict = defaultdict(list)\n",
    "    for key in SNdict:\n",
    "        StatFlowDict[key] =  np.sum(list(pd.concat(SNdict[key]).sum()))\n",
    "    return StatFlowDict    \n",
    "    \n",
    "# StatFlowDict = defaultdict(list)\n",
    "# for key in SNdict:\n",
    "#     StatFlowDict[key] =  np.sum(list(pd.concat(SNdict[key]).sum())) \n",
    "\n",
    "# StatFlowDict0 = defaultdict(list)    \n",
    "# for key in SNdict0:    \n",
    "#     StatFlowDict0[key] =  np.sum(list(pd.concat(SNdict0[key]).sum())) \n"
   ]
  },
  {
   "cell_type": "code",
   "execution_count": 24,
   "metadata": {
    "collapsed": true
   },
   "outputs": [],
   "source": [
    "StatFlowDict = makeStaDict_countBYweek(SNdict)   \n",
    "StatFlowDict0 = makeStaDict_countBYweek(SNdict0) "
   ]
  },
  {
   "cell_type": "code",
   "execution_count": 25,
   "metadata": {
    "collapsed": false
   },
   "outputs": [],
   "source": [
    "# StatFlowDict"
   ]
  },
  {
   "cell_type": "code",
   "execution_count": 26,
   "metadata": {
    "collapsed": false,
    "scrolled": true
   },
   "outputs": [],
   "source": [
    "# StatFlowDF.plot()"
   ]
  },
  {
   "cell_type": "code",
   "execution_count": 27,
   "metadata": {
    "collapsed": false
   },
   "outputs": [],
   "source": [
    "# StatFlowDF = pd.DataFrame(list(StatFlowDict.items()))"
   ]
  },
  {
   "cell_type": "code",
   "execution_count": 28,
   "metadata": {
    "collapsed": false
   },
   "outputs": [],
   "source": [
    "# StatFlowDF[2] = StatFlowDF[1] \n",
    "# StatFlowDF"
   ]
  },
  {
   "cell_type": "code",
   "execution_count": 29,
   "metadata": {
    "collapsed": false
   },
   "outputs": [],
   "source": [
    "# StatFlowDF.sort_values(by=1)\n",
    "# StatFlowDF.sort_values(by=0)"
   ]
  },
  {
   "cell_type": "code",
   "execution_count": 30,
   "metadata": {
    "collapsed": false
   },
   "outputs": [],
   "source": [
    "# StatFlowDF.describe()"
   ]
  },
  {
   "cell_type": "code",
   "execution_count": 31,
   "metadata": {
    "collapsed": false
   },
   "outputs": [],
   "source": [
    "StatFlowDF = pd.DataFrame(list(StatFlowDict.items()))\n",
    "StatFlowDF0 = pd.DataFrame(list(StatFlowDict0.items()))\n",
    "\n",
    "StatFlowDF.to_csv(pklfile1 +'.csv')\n",
    "StatFlowDF0.to_csv(pklfile0 + '.csv')\n",
    "\n",
    "# StatFlowDF0"
   ]
  },
  {
   "cell_type": "code",
   "execution_count": 32,
   "metadata": {
    "collapsed": false
   },
   "outputs": [
    {
     "data": {
      "text/plain": [
       "'turnstile_160402_1.csv'"
      ]
     },
     "execution_count": 32,
     "metadata": {},
     "output_type": "execute_result"
    }
   ],
   "source": [
    "pklfile1 +'.csv'"
   ]
  },
  {
   "cell_type": "code",
   "execution_count": 33,
   "metadata": {
    "collapsed": false
   },
   "outputs": [],
   "source": [
    "StatFlowDS = pd.Series(StatFlowDict, name = 'DateValue')\n",
    "# StatFlowDF2.to_csv('StatFlowDF2.csv')"
   ]
  },
  {
   "cell_type": "code",
   "execution_count": 34,
   "metadata": {
    "collapsed": false
   },
   "outputs": [
    {
     "data": {
      "image/png": "[encoded data removed]",
      "text/plain": [
       "<matplotlib.figure.Figure at 0x11c3f36d8>"
      ]
     },
     "metadata": {},
     "output_type": "display_data"
    }
   ],
   "source": [
    "plt.figure(figsize=(15,7))\n",
    "# plt.figure()\n",
    "# StatFlowDF2.nlargest(15).plot(kind='bar')\n",
    "df = StatFlowDS.sort_values(ascending=False)\n",
    "ax = df.iloc[:11].plot(kind=\"barh\")\n",
    "ax.invert_yaxis()"
   ]
  },
  {
   "cell_type": "code",
   "execution_count": 35,
   "metadata": {
    "collapsed": false
   },
   "outputs": [],
   "source": [
    "# df"
   ]
  },
  {
   "cell_type": "code",
   "execution_count": 36,
   "metadata": {
    "collapsed": false
   },
   "outputs": [],
   "source": [
    "StatFlowDS0 = pd.Series(StatFlowDict0) #, name = 'DateValue')\n",
    "\n",
    "# StatFlowDF02.to_csv('StatFlowDF02_lines.csv')"
   ]
  },
  {
   "cell_type": "code",
   "execution_count": 37,
   "metadata": {
    "collapsed": false
   },
   "outputs": [
    {
     "data": {
      "image/png": "[encoded data removed]",
      "text/plain": [
       "<matplotlib.figure.Figure at 0x11c5c6898>"
      ]
     },
     "metadata": {},
     "output_type": "display_data"
    }
   ],
   "source": [
    "plt.figure(figsize=(15,7))\n",
    "# StatFlowDF02.nlargest(15).plot(kind='bar')\n",
    "df = StatFlowDS0.sort_values(ascending=False)\n",
    "ax = df.iloc[:11].plot(kind=\"barh\")\n",
    "ax.invert_yaxis()\n"
   ]
  },
  {
   "cell_type": "code",
   "execution_count": 38,
   "metadata": {
    "collapsed": false
   },
   "outputs": [
    {
     "data": {
      "text/plain": [
       "(373, 2)"
      ]
     },
     "execution_count": 38,
     "metadata": {},
     "output_type": "execute_result"
    }
   ],
   "source": [
    "StatFlowDF.shape"
   ]
  },
  {
   "cell_type": "code",
   "execution_count": 39,
   "metadata": {
    "collapsed": false
   },
   "outputs": [
    {
     "data": {
      "text/plain": [
       "(472, 2)"
      ]
     },
     "execution_count": 39,
     "metadata": {},
     "output_type": "execute_result"
    }
   ],
   "source": [
    "StatFlowDF0.shape"
   ]
  },
  {
   "cell_type": "code",
   "execution_count": 41,
   "metadata": {
    "collapsed": false
   },
   "outputs": [],
   "source": [
    "# import pickle\n",
    "\n",
    "# with open(pklfile1,'wb') as picklefile:\n",
    "#     pickle.dump(StatFlowDF, picklefile)\n",
    "# #     pickle.dump(StatFlowDict, picklefile)    \n",
    "\n",
    "# with open(pklfile0,'wb') as picklefile:\n",
    "#     pickle.dump(StatFlowDF0, picklefile)\n",
    "# #     pickle.dump(StatFlowDict0, picklefile)\n",
    "        \n",
    "# # StatFlowDF02.to_pickle('StatFlowDF02_test.pkl')"
   ]
  },
  {
   "cell_type": "code",
   "execution_count": 42,
   "metadata": {
    "collapsed": false
   },
   "outputs": [],
   "source": [
    "# with open(pklfile1, 'rb') as picklefile:\n",
    "#     data1 = pd.DataFrame(pickle.load(picklefile))\n",
    "# #     data1 = pickle.load(picklefile)\n",
    "\n",
    "# # with open('StatFlowDF0_test.pkl', 'rb') as picklefile:\n",
    "# #     data = pd.DataFrame(pickle.load(picklefile))\n",
    "\n",
    "# with open(pklfile0, 'rb') as picklefile:\n",
    "#     data0 = pd.DataFrame(pickle.load(picklefile))\n",
    "# #     data0 = pickle.load(picklefile)"
   ]
  },
  {
   "cell_type": "code",
   "execution_count": 43,
   "metadata": {
    "collapsed": false
   },
   "outputs": [],
   "source": [
    "# data1.sort(columns=1, ascending=False)\n",
    "# pd.concat([data1, data0[1]], axis=1, join_axes=[data1.index])"
   ]
  },
  {
   "cell_type": "code",
   "execution_count": 44,
   "metadata": {
    "collapsed": false
   },
   "outputs": [],
   "source": [
    "# ## Tried to read in... to average but the names might not match... =(\n",
    "# # MAYBE RANKING TOP 10 stations over the week to see the frequency insteaD? \n",
    "# # data1.sort(columns=1, ascending=False)\n",
    "\n",
    "\n",
    "# from collections import defaultdict\n",
    "# import pandas as pd\n",
    "# import pickle\n",
    "\n",
    "\n",
    "# filename = [\"turnstile_160604\",\n",
    "#            \"turnstile_160528\",\n",
    "#            \"turnstile_160521\",\n",
    "#            \"turnstile_160514\",\n",
    "#            \"turnstile_160507\",\n",
    "#            \"turnstile_160430\",\n",
    "#            \"turnstile_160423\",\n",
    "#            \"turnstile_160409\",\n",
    "#            \"turnstile_160402\"]\n",
    "\n",
    "\n",
    "# StatCdict = defaultdict(list)\n",
    "# for f in filename:\n",
    "#     print(f)\n",
    "#     pklfile1 = f+'_1'+'.pkl'\n",
    "#     #pklfile0 = filename[n]+'_0'+'.pkl'\n",
    "#     print(pklfile1)\n",
    "\n",
    "#     with open(pklfile1, 'rb') as picklefile:\n",
    "#         data1 = pd.DataFrame(pickle.load(picklefile))\n",
    "#         data2 = data1.sort(columns=1, ascending=False)\n",
    "        \n",
    "        \n",
    "# #        data1 = pickle.load(picklefile)\n",
    "\n",
    "# #    data1_Dict = dict(zip(data1[0], data1[1]))\n",
    "# #\n",
    "# #    Ddict = defaultdict(list)\n",
    "# #    for k, v in data1_Dict.items():\n",
    "# #        Ddict[k].append(v)\n",
    "\n",
    "\n",
    "# for f in filename:\n",
    "#     print(f)\n",
    "#     pklfile0 = f+'_0'+'.pkl'\n",
    "#     #pklfile0 = filename[n]+'_0'+'.pkl'\n",
    "#     print(pklfile0)\n",
    "\n",
    "#     with open(pklfile0, 'rb') as picklefile:\n",
    "#         data0 = pd.DataFrame(pickle.load(picklefile))\n",
    "# #        data0 = pickle.load(picklefile)\n",
    "\n",
    "# #    data0_Dict = dict(zip(data1[0], data1[1]))\n",
    "# #\n",
    "# #    Ddict = defaultdict(list)\n",
    "# #    for k, v in data1_Dict.items():\n",
    "# #        Ddict[k].append(v)"
   ]
  }
 ],
 "metadata": {
  "kernelspec": {
   "display_name": "Python 3",
   "language": "python",
   "name": "python3"
  },
  "language_info": {
   "codemirror_mode": {
    "name": "ipython",
    "version": 3
   },
   "file_extension": ".py",
   "mimetype": "text/x-python",
   "name": "python",
   "nbconvert_exporter": "python",
   "pygments_lexer": "ipython3",
   "version": "3.5.2"
  }
 },
 "nbformat": 4,
 "nbformat_minor": 0
}
